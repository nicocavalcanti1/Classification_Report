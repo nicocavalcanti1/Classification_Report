{
 "cells": [
  {
   "cell_type": "markdown",
   "metadata": {},
   "source": [
    "## Aula 1 - Classificação: Como é e como funciona?"
   ]
  },
  {
   "cell_type": "markdown",
   "metadata": {},
   "source": [
    "### 1.1 - Importando os dados"
   ]
  },
  {
   "cell_type": "code",
   "execution_count": 3,
   "metadata": {},
   "outputs": [
    {
     "name": "stderr",
     "output_type": "stream",
     "text": [
      "c:\\Users\\nicoc\\anaconda3\\envs\\laboratorio\\lib\\importlib\\_bootstrap.py:219: RuntimeWarning: numpy.ufunc size changed, may indicate binary incompatibility. Expected 192 from C header, got 216 from PyObject\n",
      "  return f(*args, **kwds)\n"
     ]
    }
   ],
   "source": [
    "# Importando bibliotecas\n",
    "\n",
    "import pandas as pd"
   ]
  },
  {
   "cell_type": "code",
   "execution_count": 4,
   "metadata": {},
   "outputs": [
    {
     "data": {
      "text/html": [
       "<div>\n",
       "<style scoped>\n",
       "    .dataframe tbody tr th:only-of-type {\n",
       "        vertical-align: middle;\n",
       "    }\n",
       "\n",
       "    .dataframe tbody tr th {\n",
       "        vertical-align: top;\n",
       "    }\n",
       "\n",
       "    .dataframe thead th {\n",
       "        text-align: right;\n",
       "    }\n",
       "</style>\n",
       "<table border=\"1\" class=\"dataframe\">\n",
       "  <thead>\n",
       "    <tr style=\"text-align: right;\">\n",
       "      <th></th>\n",
       "      <th>Maior65Anos</th>\n",
       "      <th>Conjuge</th>\n",
       "      <th>Dependentes</th>\n",
       "      <th>MesesDeContrato</th>\n",
       "      <th>TelefoneFixo</th>\n",
       "      <th>VariasLinhasTelefonicas</th>\n",
       "      <th>ServicoDeInternet</th>\n",
       "      <th>SegurancaOnline</th>\n",
       "      <th>BackupOnline</th>\n",
       "      <th>SeguroNoDispositivo</th>\n",
       "      <th>SuporteTecnico</th>\n",
       "      <th>TVaCabo</th>\n",
       "      <th>StreamingDeFilmes</th>\n",
       "      <th>TipoDeContrato</th>\n",
       "      <th>PagamentoOnline</th>\n",
       "      <th>FormaDePagamento</th>\n",
       "      <th>ContaMensal</th>\n",
       "      <th>Churn</th>\n",
       "    </tr>\n",
       "  </thead>\n",
       "  <tbody>\n",
       "    <tr>\n",
       "      <th>0</th>\n",
       "      <td>0</td>\n",
       "      <td>Sim</td>\n",
       "      <td>Nao</td>\n",
       "      <td>1</td>\n",
       "      <td>Nao</td>\n",
       "      <td>SemServicoTelefonico</td>\n",
       "      <td>DSL</td>\n",
       "      <td>Nao</td>\n",
       "      <td>Sim</td>\n",
       "      <td>Nao</td>\n",
       "      <td>Nao</td>\n",
       "      <td>Nao</td>\n",
       "      <td>Nao</td>\n",
       "      <td>Mensalmente</td>\n",
       "      <td>Sim</td>\n",
       "      <td>ChequeDigital</td>\n",
       "      <td>29.85</td>\n",
       "      <td>Nao</td>\n",
       "    </tr>\n",
       "    <tr>\n",
       "      <th>1</th>\n",
       "      <td>0</td>\n",
       "      <td>Nao</td>\n",
       "      <td>Nao</td>\n",
       "      <td>34</td>\n",
       "      <td>Sim</td>\n",
       "      <td>Nao</td>\n",
       "      <td>DSL</td>\n",
       "      <td>Sim</td>\n",
       "      <td>Nao</td>\n",
       "      <td>Sim</td>\n",
       "      <td>Nao</td>\n",
       "      <td>Nao</td>\n",
       "      <td>Nao</td>\n",
       "      <td>UmAno</td>\n",
       "      <td>Nao</td>\n",
       "      <td>ChequePapel</td>\n",
       "      <td>56.95</td>\n",
       "      <td>Nao</td>\n",
       "    </tr>\n",
       "    <tr>\n",
       "      <th>2</th>\n",
       "      <td>0</td>\n",
       "      <td>Nao</td>\n",
       "      <td>Nao</td>\n",
       "      <td>2</td>\n",
       "      <td>Sim</td>\n",
       "      <td>Nao</td>\n",
       "      <td>DSL</td>\n",
       "      <td>Sim</td>\n",
       "      <td>Sim</td>\n",
       "      <td>Nao</td>\n",
       "      <td>Nao</td>\n",
       "      <td>Nao</td>\n",
       "      <td>Nao</td>\n",
       "      <td>Mensalmente</td>\n",
       "      <td>Sim</td>\n",
       "      <td>ChequePapel</td>\n",
       "      <td>53.85</td>\n",
       "      <td>Sim</td>\n",
       "    </tr>\n",
       "    <tr>\n",
       "      <th>3</th>\n",
       "      <td>0</td>\n",
       "      <td>Nao</td>\n",
       "      <td>Nao</td>\n",
       "      <td>45</td>\n",
       "      <td>Nao</td>\n",
       "      <td>SemServicoTelefonico</td>\n",
       "      <td>DSL</td>\n",
       "      <td>Sim</td>\n",
       "      <td>Nao</td>\n",
       "      <td>Sim</td>\n",
       "      <td>Sim</td>\n",
       "      <td>Nao</td>\n",
       "      <td>Nao</td>\n",
       "      <td>UmAno</td>\n",
       "      <td>Nao</td>\n",
       "      <td>DebitoEmConta</td>\n",
       "      <td>42.30</td>\n",
       "      <td>Nao</td>\n",
       "    </tr>\n",
       "    <tr>\n",
       "      <th>4</th>\n",
       "      <td>0</td>\n",
       "      <td>Nao</td>\n",
       "      <td>Nao</td>\n",
       "      <td>2</td>\n",
       "      <td>Sim</td>\n",
       "      <td>Nao</td>\n",
       "      <td>FibraOptica</td>\n",
       "      <td>Nao</td>\n",
       "      <td>Nao</td>\n",
       "      <td>Nao</td>\n",
       "      <td>Nao</td>\n",
       "      <td>Nao</td>\n",
       "      <td>Nao</td>\n",
       "      <td>Mensalmente</td>\n",
       "      <td>Sim</td>\n",
       "      <td>ChequeDigital</td>\n",
       "      <td>70.70</td>\n",
       "      <td>Sim</td>\n",
       "    </tr>\n",
       "  </tbody>\n",
       "</table>\n",
       "</div>"
      ],
      "text/plain": [
       "   Maior65Anos Conjuge Dependentes  MesesDeContrato TelefoneFixo  \\\n",
       "0            0     Sim         Nao                1          Nao   \n",
       "1            0     Nao         Nao               34          Sim   \n",
       "2            0     Nao         Nao                2          Sim   \n",
       "3            0     Nao         Nao               45          Nao   \n",
       "4            0     Nao         Nao                2          Sim   \n",
       "\n",
       "  VariasLinhasTelefonicas ServicoDeInternet SegurancaOnline BackupOnline  \\\n",
       "0    SemServicoTelefonico               DSL             Nao          Sim   \n",
       "1                     Nao               DSL             Sim          Nao   \n",
       "2                     Nao               DSL             Sim          Sim   \n",
       "3    SemServicoTelefonico               DSL             Sim          Nao   \n",
       "4                     Nao       FibraOptica             Nao          Nao   \n",
       "\n",
       "  SeguroNoDispositivo SuporteTecnico TVaCabo StreamingDeFilmes TipoDeContrato  \\\n",
       "0                 Nao            Nao     Nao               Nao    Mensalmente   \n",
       "1                 Sim            Nao     Nao               Nao          UmAno   \n",
       "2                 Nao            Nao     Nao               Nao    Mensalmente   \n",
       "3                 Sim            Sim     Nao               Nao          UmAno   \n",
       "4                 Nao            Nao     Nao               Nao    Mensalmente   \n",
       "\n",
       "  PagamentoOnline FormaDePagamento  ContaMensal Churn  \n",
       "0             Sim    ChequeDigital        29.85   Nao  \n",
       "1             Nao      ChequePapel        56.95   Nao  \n",
       "2             Sim      ChequePapel        53.85   Sim  \n",
       "3             Nao    DebitoEmConta        42.30   Nao  \n",
       "4             Sim    ChequeDigital        70.70   Sim  "
      ]
     },
     "execution_count": 4,
     "metadata": {},
     "output_type": "execute_result"
    }
   ],
   "source": [
    "# Carregando dataset\n",
    "\n",
    "url = 'https://raw.githubusercontent.com/alura-cursos/ML_Classificacao_por_tras_dos_panos/main/Dados/Customer-Churn.csv'\n",
    "dados = pd.read_csv(url)\n",
    "dados.head()"
   ]
  },
  {
   "cell_type": "code",
   "execution_count": 5,
   "metadata": {},
   "outputs": [
    {
     "data": {
      "text/html": [
       "<div>\n",
       "<style scoped>\n",
       "    .dataframe tbody tr th:only-of-type {\n",
       "        vertical-align: middle;\n",
       "    }\n",
       "\n",
       "    .dataframe tbody tr th {\n",
       "        vertical-align: top;\n",
       "    }\n",
       "\n",
       "    .dataframe thead th {\n",
       "        text-align: right;\n",
       "    }\n",
       "</style>\n",
       "<table border=\"1\" class=\"dataframe\">\n",
       "  <thead>\n",
       "    <tr style=\"text-align: right;\">\n",
       "      <th></th>\n",
       "      <th>Maior65Anos</th>\n",
       "      <th>Conjuge</th>\n",
       "      <th>Dependentes</th>\n",
       "      <th>MesesDeContrato</th>\n",
       "      <th>TelefoneFixo</th>\n",
       "      <th>VariasLinhasTelefonicas</th>\n",
       "      <th>ServicoDeInternet</th>\n",
       "      <th>SegurancaOnline</th>\n",
       "      <th>BackupOnline</th>\n",
       "      <th>SeguroNoDispositivo</th>\n",
       "      <th>SuporteTecnico</th>\n",
       "      <th>TVaCabo</th>\n",
       "      <th>StreamingDeFilmes</th>\n",
       "      <th>TipoDeContrato</th>\n",
       "      <th>PagamentoOnline</th>\n",
       "      <th>FormaDePagamento</th>\n",
       "      <th>ContaMensal</th>\n",
       "      <th>Churn</th>\n",
       "    </tr>\n",
       "  </thead>\n",
       "  <tbody>\n",
       "    <tr>\n",
       "      <th>7038</th>\n",
       "      <td>0</td>\n",
       "      <td>Sim</td>\n",
       "      <td>Sim</td>\n",
       "      <td>24</td>\n",
       "      <td>Sim</td>\n",
       "      <td>Sim</td>\n",
       "      <td>DSL</td>\n",
       "      <td>Sim</td>\n",
       "      <td>Nao</td>\n",
       "      <td>Sim</td>\n",
       "      <td>Sim</td>\n",
       "      <td>Sim</td>\n",
       "      <td>Sim</td>\n",
       "      <td>UmAno</td>\n",
       "      <td>Sim</td>\n",
       "      <td>ChequePapel</td>\n",
       "      <td>84.80</td>\n",
       "      <td>Nao</td>\n",
       "    </tr>\n",
       "    <tr>\n",
       "      <th>7039</th>\n",
       "      <td>0</td>\n",
       "      <td>Sim</td>\n",
       "      <td>Sim</td>\n",
       "      <td>72</td>\n",
       "      <td>Sim</td>\n",
       "      <td>Sim</td>\n",
       "      <td>FibraOptica</td>\n",
       "      <td>Nao</td>\n",
       "      <td>Sim</td>\n",
       "      <td>Sim</td>\n",
       "      <td>Nao</td>\n",
       "      <td>Sim</td>\n",
       "      <td>Sim</td>\n",
       "      <td>UmAno</td>\n",
       "      <td>Sim</td>\n",
       "      <td>CartaoDeCredito</td>\n",
       "      <td>103.20</td>\n",
       "      <td>Nao</td>\n",
       "    </tr>\n",
       "    <tr>\n",
       "      <th>7040</th>\n",
       "      <td>0</td>\n",
       "      <td>Sim</td>\n",
       "      <td>Sim</td>\n",
       "      <td>11</td>\n",
       "      <td>Nao</td>\n",
       "      <td>SemServicoTelefonico</td>\n",
       "      <td>DSL</td>\n",
       "      <td>Sim</td>\n",
       "      <td>Nao</td>\n",
       "      <td>Nao</td>\n",
       "      <td>Nao</td>\n",
       "      <td>Nao</td>\n",
       "      <td>Nao</td>\n",
       "      <td>Mensalmente</td>\n",
       "      <td>Sim</td>\n",
       "      <td>ChequeDigital</td>\n",
       "      <td>29.60</td>\n",
       "      <td>Nao</td>\n",
       "    </tr>\n",
       "    <tr>\n",
       "      <th>7041</th>\n",
       "      <td>1</td>\n",
       "      <td>Sim</td>\n",
       "      <td>Nao</td>\n",
       "      <td>4</td>\n",
       "      <td>Sim</td>\n",
       "      <td>Sim</td>\n",
       "      <td>FibraOptica</td>\n",
       "      <td>Nao</td>\n",
       "      <td>Nao</td>\n",
       "      <td>Nao</td>\n",
       "      <td>Nao</td>\n",
       "      <td>Nao</td>\n",
       "      <td>Nao</td>\n",
       "      <td>Mensalmente</td>\n",
       "      <td>Sim</td>\n",
       "      <td>ChequePapel</td>\n",
       "      <td>74.40</td>\n",
       "      <td>Sim</td>\n",
       "    </tr>\n",
       "    <tr>\n",
       "      <th>7042</th>\n",
       "      <td>0</td>\n",
       "      <td>Nao</td>\n",
       "      <td>Nao</td>\n",
       "      <td>66</td>\n",
       "      <td>Sim</td>\n",
       "      <td>Nao</td>\n",
       "      <td>FibraOptica</td>\n",
       "      <td>Sim</td>\n",
       "      <td>Nao</td>\n",
       "      <td>Sim</td>\n",
       "      <td>Sim</td>\n",
       "      <td>Sim</td>\n",
       "      <td>Sim</td>\n",
       "      <td>DoisAnos</td>\n",
       "      <td>Sim</td>\n",
       "      <td>DebitoEmConta</td>\n",
       "      <td>105.65</td>\n",
       "      <td>Nao</td>\n",
       "    </tr>\n",
       "  </tbody>\n",
       "</table>\n",
       "</div>"
      ],
      "text/plain": [
       "      Maior65Anos Conjuge Dependentes  MesesDeContrato TelefoneFixo  \\\n",
       "7038            0     Sim         Sim               24          Sim   \n",
       "7039            0     Sim         Sim               72          Sim   \n",
       "7040            0     Sim         Sim               11          Nao   \n",
       "7041            1     Sim         Nao                4          Sim   \n",
       "7042            0     Nao         Nao               66          Sim   \n",
       "\n",
       "     VariasLinhasTelefonicas ServicoDeInternet SegurancaOnline BackupOnline  \\\n",
       "7038                     Sim               DSL             Sim          Nao   \n",
       "7039                     Sim       FibraOptica             Nao          Sim   \n",
       "7040    SemServicoTelefonico               DSL             Sim          Nao   \n",
       "7041                     Sim       FibraOptica             Nao          Nao   \n",
       "7042                     Nao       FibraOptica             Sim          Nao   \n",
       "\n",
       "     SeguroNoDispositivo SuporteTecnico TVaCabo StreamingDeFilmes  \\\n",
       "7038                 Sim            Sim     Sim               Sim   \n",
       "7039                 Sim            Nao     Sim               Sim   \n",
       "7040                 Nao            Nao     Nao               Nao   \n",
       "7041                 Nao            Nao     Nao               Nao   \n",
       "7042                 Sim            Sim     Sim               Sim   \n",
       "\n",
       "     TipoDeContrato PagamentoOnline FormaDePagamento  ContaMensal Churn  \n",
       "7038          UmAno             Sim      ChequePapel        84.80   Nao  \n",
       "7039          UmAno             Sim  CartaoDeCredito       103.20   Nao  \n",
       "7040    Mensalmente             Sim    ChequeDigital        29.60   Nao  \n",
       "7041    Mensalmente             Sim      ChequePapel        74.40   Sim  \n",
       "7042       DoisAnos             Sim    DebitoEmConta       105.65   Nao  "
      ]
     },
     "execution_count": 5,
     "metadata": {},
     "output_type": "execute_result"
    }
   ],
   "source": [
    "# Verificar as últimas linhas \n",
    "\n",
    "dados.tail()"
   ]
  },
  {
   "cell_type": "code",
   "execution_count": 6,
   "metadata": {},
   "outputs": [
    {
     "data": {
      "text/plain": [
       "(7043, 18)"
      ]
     },
     "execution_count": 6,
     "metadata": {},
     "output_type": "execute_result"
    }
   ],
   "source": [
    "# Verificando as informaçoes básicas\n",
    "\n",
    "dados.shape"
   ]
  },
  {
   "cell_type": "markdown",
   "metadata": {},
   "source": [
    "#"
   ]
  },
  {
   "cell_type": "markdown",
   "metadata": {},
   "source": [
    "### 1.2 - Diferentes variáveis"
   ]
  },
  {
   "cell_type": "code",
   "execution_count": 7,
   "metadata": {},
   "outputs": [
    {
     "data": {
      "text/html": [
       "<div>\n",
       "<style scoped>\n",
       "    .dataframe tbody tr th:only-of-type {\n",
       "        vertical-align: middle;\n",
       "    }\n",
       "\n",
       "    .dataframe tbody tr th {\n",
       "        vertical-align: top;\n",
       "    }\n",
       "\n",
       "    .dataframe thead th {\n",
       "        text-align: right;\n",
       "    }\n",
       "</style>\n",
       "<table border=\"1\" class=\"dataframe\">\n",
       "  <thead>\n",
       "    <tr style=\"text-align: right;\">\n",
       "      <th></th>\n",
       "      <th>Conjuge</th>\n",
       "      <th>Dependentes</th>\n",
       "      <th>TelefoneFixo</th>\n",
       "      <th>PagamentoOnline</th>\n",
       "      <th>Churn</th>\n",
       "    </tr>\n",
       "  </thead>\n",
       "  <tbody>\n",
       "    <tr>\n",
       "      <th>0</th>\n",
       "      <td>1</td>\n",
       "      <td>0</td>\n",
       "      <td>0</td>\n",
       "      <td>1</td>\n",
       "      <td>0</td>\n",
       "    </tr>\n",
       "    <tr>\n",
       "      <th>1</th>\n",
       "      <td>0</td>\n",
       "      <td>0</td>\n",
       "      <td>1</td>\n",
       "      <td>0</td>\n",
       "      <td>0</td>\n",
       "    </tr>\n",
       "    <tr>\n",
       "      <th>2</th>\n",
       "      <td>0</td>\n",
       "      <td>0</td>\n",
       "      <td>1</td>\n",
       "      <td>1</td>\n",
       "      <td>1</td>\n",
       "    </tr>\n",
       "    <tr>\n",
       "      <th>3</th>\n",
       "      <td>0</td>\n",
       "      <td>0</td>\n",
       "      <td>0</td>\n",
       "      <td>0</td>\n",
       "      <td>0</td>\n",
       "    </tr>\n",
       "    <tr>\n",
       "      <th>4</th>\n",
       "      <td>0</td>\n",
       "      <td>0</td>\n",
       "      <td>1</td>\n",
       "      <td>1</td>\n",
       "      <td>1</td>\n",
       "    </tr>\n",
       "  </tbody>\n",
       "</table>\n",
       "</div>"
      ],
      "text/plain": [
       "   Conjuge  Dependentes  TelefoneFixo  PagamentoOnline  Churn\n",
       "0        1            0             0                1      0\n",
       "1        0            0             1                0      0\n",
       "2        0            0             1                1      1\n",
       "3        0            0             0                0      0\n",
       "4        0            0             1                1      1"
      ]
     },
     "execution_count": 7,
     "metadata": {},
     "output_type": "execute_result"
    }
   ],
   "source": [
    "# Realizando a substituição dos valores categoricos\n",
    "\n",
    "trad_mod = {\n",
    "    \"Sim\": 1,\n",
    "    \"Nao\": 0\n",
    "}\n",
    "\n",
    "dadosalterados = dados[[\"Conjuge\", \"Dependentes\", \"TelefoneFixo\", \"PagamentoOnline\", \"Churn\"]].replace(trad_mod)\n",
    "dadosalterados.head()"
   ]
  },
  {
   "cell_type": "code",
   "execution_count": 8,
   "metadata": {},
   "outputs": [
    {
     "data": {
      "text/html": [
       "<div>\n",
       "<style scoped>\n",
       "    .dataframe tbody tr th:only-of-type {\n",
       "        vertical-align: middle;\n",
       "    }\n",
       "\n",
       "    .dataframe tbody tr th {\n",
       "        vertical-align: top;\n",
       "    }\n",
       "\n",
       "    .dataframe thead th {\n",
       "        text-align: right;\n",
       "    }\n",
       "</style>\n",
       "<table border=\"1\" class=\"dataframe\">\n",
       "  <thead>\n",
       "    <tr style=\"text-align: right;\">\n",
       "      <th></th>\n",
       "      <th>Maior65Anos</th>\n",
       "      <th>MesesDeContrato</th>\n",
       "      <th>ContaMensal</th>\n",
       "      <th>VariasLinhasTelefonicas_Nao</th>\n",
       "      <th>VariasLinhasTelefonicas_SemServicoTelefonico</th>\n",
       "      <th>VariasLinhasTelefonicas_Sim</th>\n",
       "      <th>ServicoDeInternet_DSL</th>\n",
       "      <th>ServicoDeInternet_FibraOptica</th>\n",
       "      <th>ServicoDeInternet_Nao</th>\n",
       "      <th>SegurancaOnline_Nao</th>\n",
       "      <th>...</th>\n",
       "      <th>StreamingDeFilmes_Nao</th>\n",
       "      <th>StreamingDeFilmes_SemServicoDeInternet</th>\n",
       "      <th>StreamingDeFilmes_Sim</th>\n",
       "      <th>TipoDeContrato_DoisAnos</th>\n",
       "      <th>TipoDeContrato_Mensalmente</th>\n",
       "      <th>TipoDeContrato_UmAno</th>\n",
       "      <th>FormaDePagamento_CartaoDeCredito</th>\n",
       "      <th>FormaDePagamento_ChequeDigital</th>\n",
       "      <th>FormaDePagamento_ChequePapel</th>\n",
       "      <th>FormaDePagamento_DebitoEmConta</th>\n",
       "    </tr>\n",
       "  </thead>\n",
       "  <tbody>\n",
       "    <tr>\n",
       "      <th>0</th>\n",
       "      <td>0</td>\n",
       "      <td>1</td>\n",
       "      <td>29.85</td>\n",
       "      <td>0</td>\n",
       "      <td>1</td>\n",
       "      <td>0</td>\n",
       "      <td>1</td>\n",
       "      <td>0</td>\n",
       "      <td>0</td>\n",
       "      <td>1</td>\n",
       "      <td>...</td>\n",
       "      <td>1</td>\n",
       "      <td>0</td>\n",
       "      <td>0</td>\n",
       "      <td>0</td>\n",
       "      <td>1</td>\n",
       "      <td>0</td>\n",
       "      <td>0</td>\n",
       "      <td>1</td>\n",
       "      <td>0</td>\n",
       "      <td>0</td>\n",
       "    </tr>\n",
       "    <tr>\n",
       "      <th>1</th>\n",
       "      <td>0</td>\n",
       "      <td>34</td>\n",
       "      <td>56.95</td>\n",
       "      <td>1</td>\n",
       "      <td>0</td>\n",
       "      <td>0</td>\n",
       "      <td>1</td>\n",
       "      <td>0</td>\n",
       "      <td>0</td>\n",
       "      <td>0</td>\n",
       "      <td>...</td>\n",
       "      <td>1</td>\n",
       "      <td>0</td>\n",
       "      <td>0</td>\n",
       "      <td>0</td>\n",
       "      <td>0</td>\n",
       "      <td>1</td>\n",
       "      <td>0</td>\n",
       "      <td>0</td>\n",
       "      <td>1</td>\n",
       "      <td>0</td>\n",
       "    </tr>\n",
       "    <tr>\n",
       "      <th>2</th>\n",
       "      <td>0</td>\n",
       "      <td>2</td>\n",
       "      <td>53.85</td>\n",
       "      <td>1</td>\n",
       "      <td>0</td>\n",
       "      <td>0</td>\n",
       "      <td>1</td>\n",
       "      <td>0</td>\n",
       "      <td>0</td>\n",
       "      <td>0</td>\n",
       "      <td>...</td>\n",
       "      <td>1</td>\n",
       "      <td>0</td>\n",
       "      <td>0</td>\n",
       "      <td>0</td>\n",
       "      <td>1</td>\n",
       "      <td>0</td>\n",
       "      <td>0</td>\n",
       "      <td>0</td>\n",
       "      <td>1</td>\n",
       "      <td>0</td>\n",
       "    </tr>\n",
       "    <tr>\n",
       "      <th>3</th>\n",
       "      <td>0</td>\n",
       "      <td>45</td>\n",
       "      <td>42.30</td>\n",
       "      <td>0</td>\n",
       "      <td>1</td>\n",
       "      <td>0</td>\n",
       "      <td>1</td>\n",
       "      <td>0</td>\n",
       "      <td>0</td>\n",
       "      <td>0</td>\n",
       "      <td>...</td>\n",
       "      <td>1</td>\n",
       "      <td>0</td>\n",
       "      <td>0</td>\n",
       "      <td>0</td>\n",
       "      <td>0</td>\n",
       "      <td>1</td>\n",
       "      <td>0</td>\n",
       "      <td>0</td>\n",
       "      <td>0</td>\n",
       "      <td>1</td>\n",
       "    </tr>\n",
       "    <tr>\n",
       "      <th>4</th>\n",
       "      <td>0</td>\n",
       "      <td>2</td>\n",
       "      <td>70.70</td>\n",
       "      <td>1</td>\n",
       "      <td>0</td>\n",
       "      <td>0</td>\n",
       "      <td>0</td>\n",
       "      <td>1</td>\n",
       "      <td>0</td>\n",
       "      <td>1</td>\n",
       "      <td>...</td>\n",
       "      <td>1</td>\n",
       "      <td>0</td>\n",
       "      <td>0</td>\n",
       "      <td>0</td>\n",
       "      <td>1</td>\n",
       "      <td>0</td>\n",
       "      <td>0</td>\n",
       "      <td>1</td>\n",
       "      <td>0</td>\n",
       "      <td>0</td>\n",
       "    </tr>\n",
       "  </tbody>\n",
       "</table>\n",
       "<p>5 rows × 34 columns</p>\n",
       "</div>"
      ],
      "text/plain": [
       "   Maior65Anos  MesesDeContrato  ContaMensal  VariasLinhasTelefonicas_Nao  \\\n",
       "0            0                1        29.85                            0   \n",
       "1            0               34        56.95                            1   \n",
       "2            0                2        53.85                            1   \n",
       "3            0               45        42.30                            0   \n",
       "4            0                2        70.70                            1   \n",
       "\n",
       "   VariasLinhasTelefonicas_SemServicoTelefonico  VariasLinhasTelefonicas_Sim  \\\n",
       "0                                             1                            0   \n",
       "1                                             0                            0   \n",
       "2                                             0                            0   \n",
       "3                                             1                            0   \n",
       "4                                             0                            0   \n",
       "\n",
       "   ServicoDeInternet_DSL  ServicoDeInternet_FibraOptica  \\\n",
       "0                      1                              0   \n",
       "1                      1                              0   \n",
       "2                      1                              0   \n",
       "3                      1                              0   \n",
       "4                      0                              1   \n",
       "\n",
       "   ServicoDeInternet_Nao  SegurancaOnline_Nao  ...  StreamingDeFilmes_Nao  \\\n",
       "0                      0                    1  ...                      1   \n",
       "1                      0                    0  ...                      1   \n",
       "2                      0                    0  ...                      1   \n",
       "3                      0                    0  ...                      1   \n",
       "4                      0                    1  ...                      1   \n",
       "\n",
       "   StreamingDeFilmes_SemServicoDeInternet  StreamingDeFilmes_Sim  \\\n",
       "0                                       0                      0   \n",
       "1                                       0                      0   \n",
       "2                                       0                      0   \n",
       "3                                       0                      0   \n",
       "4                                       0                      0   \n",
       "\n",
       "   TipoDeContrato_DoisAnos  TipoDeContrato_Mensalmente  TipoDeContrato_UmAno  \\\n",
       "0                        0                           1                     0   \n",
       "1                        0                           0                     1   \n",
       "2                        0                           1                     0   \n",
       "3                        0                           0                     1   \n",
       "4                        0                           1                     0   \n",
       "\n",
       "   FormaDePagamento_CartaoDeCredito  FormaDePagamento_ChequeDigital  \\\n",
       "0                                 0                               1   \n",
       "1                                 0                               0   \n",
       "2                                 0                               0   \n",
       "3                                 0                               0   \n",
       "4                                 0                               1   \n",
       "\n",
       "   FormaDePagamento_ChequePapel  FormaDePagamento_DebitoEmConta  \n",
       "0                             0                               0  \n",
       "1                             1                               0  \n",
       "2                             1                               0  \n",
       "3                             0                               1  \n",
       "4                             0                               0  \n",
       "\n",
       "[5 rows x 34 columns]"
      ]
     },
     "execution_count": 8,
     "metadata": {},
     "output_type": "execute_result"
    }
   ],
   "source": [
    "# Transformando dados pelo get_dummies\n",
    "\n",
    "dummie_dados =pd.get_dummies(dados.drop(['Conjuge', 'Dependentes', 'TelefoneFixo', 'PagamentoOnline', 'Churn'], axis=1))\n",
    "dummie_dados.head()"
   ]
  },
  {
   "cell_type": "code",
   "execution_count": 9,
   "metadata": {},
   "outputs": [
    {
     "data": {
      "text/html": [
       "<div>\n",
       "<style scoped>\n",
       "    .dataframe tbody tr th:only-of-type {\n",
       "        vertical-align: middle;\n",
       "    }\n",
       "\n",
       "    .dataframe tbody tr th {\n",
       "        vertical-align: top;\n",
       "    }\n",
       "\n",
       "    .dataframe thead th {\n",
       "        text-align: right;\n",
       "    }\n",
       "</style>\n",
       "<table border=\"1\" class=\"dataframe\">\n",
       "  <thead>\n",
       "    <tr style=\"text-align: right;\">\n",
       "      <th></th>\n",
       "      <th>Conjuge</th>\n",
       "      <th>Dependentes</th>\n",
       "      <th>TelefoneFixo</th>\n",
       "      <th>PagamentoOnline</th>\n",
       "      <th>Churn</th>\n",
       "      <th>Maior65Anos</th>\n",
       "      <th>MesesDeContrato</th>\n",
       "      <th>ContaMensal</th>\n",
       "      <th>VariasLinhasTelefonicas_Nao</th>\n",
       "      <th>VariasLinhasTelefonicas_SemServicoTelefonico</th>\n",
       "      <th>...</th>\n",
       "      <th>StreamingDeFilmes_Nao</th>\n",
       "      <th>StreamingDeFilmes_SemServicoDeInternet</th>\n",
       "      <th>StreamingDeFilmes_Sim</th>\n",
       "      <th>TipoDeContrato_DoisAnos</th>\n",
       "      <th>TipoDeContrato_Mensalmente</th>\n",
       "      <th>TipoDeContrato_UmAno</th>\n",
       "      <th>FormaDePagamento_CartaoDeCredito</th>\n",
       "      <th>FormaDePagamento_ChequeDigital</th>\n",
       "      <th>FormaDePagamento_ChequePapel</th>\n",
       "      <th>FormaDePagamento_DebitoEmConta</th>\n",
       "    </tr>\n",
       "  </thead>\n",
       "  <tbody>\n",
       "    <tr>\n",
       "      <th>0</th>\n",
       "      <td>1</td>\n",
       "      <td>0</td>\n",
       "      <td>0</td>\n",
       "      <td>1</td>\n",
       "      <td>0</td>\n",
       "      <td>0</td>\n",
       "      <td>1</td>\n",
       "      <td>29.85</td>\n",
       "      <td>0</td>\n",
       "      <td>1</td>\n",
       "      <td>...</td>\n",
       "      <td>1</td>\n",
       "      <td>0</td>\n",
       "      <td>0</td>\n",
       "      <td>0</td>\n",
       "      <td>1</td>\n",
       "      <td>0</td>\n",
       "      <td>0</td>\n",
       "      <td>1</td>\n",
       "      <td>0</td>\n",
       "      <td>0</td>\n",
       "    </tr>\n",
       "    <tr>\n",
       "      <th>1</th>\n",
       "      <td>0</td>\n",
       "      <td>0</td>\n",
       "      <td>1</td>\n",
       "      <td>0</td>\n",
       "      <td>0</td>\n",
       "      <td>0</td>\n",
       "      <td>34</td>\n",
       "      <td>56.95</td>\n",
       "      <td>1</td>\n",
       "      <td>0</td>\n",
       "      <td>...</td>\n",
       "      <td>1</td>\n",
       "      <td>0</td>\n",
       "      <td>0</td>\n",
       "      <td>0</td>\n",
       "      <td>0</td>\n",
       "      <td>1</td>\n",
       "      <td>0</td>\n",
       "      <td>0</td>\n",
       "      <td>1</td>\n",
       "      <td>0</td>\n",
       "    </tr>\n",
       "    <tr>\n",
       "      <th>2</th>\n",
       "      <td>0</td>\n",
       "      <td>0</td>\n",
       "      <td>1</td>\n",
       "      <td>1</td>\n",
       "      <td>1</td>\n",
       "      <td>0</td>\n",
       "      <td>2</td>\n",
       "      <td>53.85</td>\n",
       "      <td>1</td>\n",
       "      <td>0</td>\n",
       "      <td>...</td>\n",
       "      <td>1</td>\n",
       "      <td>0</td>\n",
       "      <td>0</td>\n",
       "      <td>0</td>\n",
       "      <td>1</td>\n",
       "      <td>0</td>\n",
       "      <td>0</td>\n",
       "      <td>0</td>\n",
       "      <td>1</td>\n",
       "      <td>0</td>\n",
       "    </tr>\n",
       "    <tr>\n",
       "      <th>3</th>\n",
       "      <td>0</td>\n",
       "      <td>0</td>\n",
       "      <td>0</td>\n",
       "      <td>0</td>\n",
       "      <td>0</td>\n",
       "      <td>0</td>\n",
       "      <td>45</td>\n",
       "      <td>42.30</td>\n",
       "      <td>0</td>\n",
       "      <td>1</td>\n",
       "      <td>...</td>\n",
       "      <td>1</td>\n",
       "      <td>0</td>\n",
       "      <td>0</td>\n",
       "      <td>0</td>\n",
       "      <td>0</td>\n",
       "      <td>1</td>\n",
       "      <td>0</td>\n",
       "      <td>0</td>\n",
       "      <td>0</td>\n",
       "      <td>1</td>\n",
       "    </tr>\n",
       "    <tr>\n",
       "      <th>4</th>\n",
       "      <td>0</td>\n",
       "      <td>0</td>\n",
       "      <td>1</td>\n",
       "      <td>1</td>\n",
       "      <td>1</td>\n",
       "      <td>0</td>\n",
       "      <td>2</td>\n",
       "      <td>70.70</td>\n",
       "      <td>1</td>\n",
       "      <td>0</td>\n",
       "      <td>...</td>\n",
       "      <td>1</td>\n",
       "      <td>0</td>\n",
       "      <td>0</td>\n",
       "      <td>0</td>\n",
       "      <td>1</td>\n",
       "      <td>0</td>\n",
       "      <td>0</td>\n",
       "      <td>1</td>\n",
       "      <td>0</td>\n",
       "      <td>0</td>\n",
       "    </tr>\n",
       "  </tbody>\n",
       "</table>\n",
       "<p>5 rows × 39 columns</p>\n",
       "</div>"
      ],
      "text/plain": [
       "   Conjuge  Dependentes  TelefoneFixo  PagamentoOnline  Churn  Maior65Anos  \\\n",
       "0        1            0             0                1      0            0   \n",
       "1        0            0             1                0      0            0   \n",
       "2        0            0             1                1      1            0   \n",
       "3        0            0             0                0      0            0   \n",
       "4        0            0             1                1      1            0   \n",
       "\n",
       "   MesesDeContrato  ContaMensal  VariasLinhasTelefonicas_Nao  \\\n",
       "0                1        29.85                            0   \n",
       "1               34        56.95                            1   \n",
       "2                2        53.85                            1   \n",
       "3               45        42.30                            0   \n",
       "4                2        70.70                            1   \n",
       "\n",
       "   VariasLinhasTelefonicas_SemServicoTelefonico  ...  StreamingDeFilmes_Nao  \\\n",
       "0                                             1  ...                      1   \n",
       "1                                             0  ...                      1   \n",
       "2                                             0  ...                      1   \n",
       "3                                             1  ...                      1   \n",
       "4                                             0  ...                      1   \n",
       "\n",
       "   StreamingDeFilmes_SemServicoDeInternet  StreamingDeFilmes_Sim  \\\n",
       "0                                       0                      0   \n",
       "1                                       0                      0   \n",
       "2                                       0                      0   \n",
       "3                                       0                      0   \n",
       "4                                       0                      0   \n",
       "\n",
       "   TipoDeContrato_DoisAnos  TipoDeContrato_Mensalmente  TipoDeContrato_UmAno  \\\n",
       "0                        0                           1                     0   \n",
       "1                        0                           0                     1   \n",
       "2                        0                           1                     0   \n",
       "3                        0                           0                     1   \n",
       "4                        0                           1                     0   \n",
       "\n",
       "   FormaDePagamento_CartaoDeCredito  FormaDePagamento_ChequeDigital  \\\n",
       "0                                 0                               1   \n",
       "1                                 0                               0   \n",
       "2                                 0                               0   \n",
       "3                                 0                               0   \n",
       "4                                 0                               1   \n",
       "\n",
       "   FormaDePagamento_ChequePapel  FormaDePagamento_DebitoEmConta  \n",
       "0                             0                               0  \n",
       "1                             1                               0  \n",
       "2                             1                               0  \n",
       "3                             0                               1  \n",
       "4                             0                               0  \n",
       "\n",
       "[5 rows x 39 columns]"
      ]
     },
     "execution_count": 9,
     "metadata": {},
     "output_type": "execute_result"
    }
   ],
   "source": [
    "# junção dos dados transformados\n",
    "\n",
    "dados_final = pd.concat([dadosalterados, dummie_dados], axis=1)\n",
    "dados_final.head()"
   ]
  },
  {
   "cell_type": "code",
   "execution_count": 10,
   "metadata": {},
   "outputs": [
    {
     "data": {
      "text/plain": [
       "(7043, 39)"
      ]
     },
     "execution_count": 10,
     "metadata": {},
     "output_type": "execute_result"
    }
   ],
   "source": [
    "# Verificando estrutura do dataframe após as transformações\n",
    "\n",
    "dados_final.shape"
   ]
  },
  {
   "cell_type": "markdown",
   "metadata": {},
   "source": [
    "#"
   ]
  },
  {
   "cell_type": "markdown",
   "metadata": {},
   "source": [
    "### 1.3 - Definição Formal"
   ]
  },
  {
   "cell_type": "code",
   "execution_count": 11,
   "metadata": {},
   "outputs": [],
   "source": [
    "# Configurando visualização\n",
    "\n",
    "pd.set_option('display.max_columns', 39)"
   ]
  },
  {
   "cell_type": "code",
   "execution_count": 12,
   "metadata": {},
   "outputs": [
    {
     "data": {
      "text/html": [
       "<div>\n",
       "<style scoped>\n",
       "    .dataframe tbody tr th:only-of-type {\n",
       "        vertical-align: middle;\n",
       "    }\n",
       "\n",
       "    .dataframe tbody tr th {\n",
       "        vertical-align: top;\n",
       "    }\n",
       "\n",
       "    .dataframe thead th {\n",
       "        text-align: right;\n",
       "    }\n",
       "</style>\n",
       "<table border=\"1\" class=\"dataframe\">\n",
       "  <thead>\n",
       "    <tr style=\"text-align: right;\">\n",
       "      <th></th>\n",
       "      <th>Conjuge</th>\n",
       "      <th>Dependentes</th>\n",
       "      <th>TelefoneFixo</th>\n",
       "      <th>PagamentoOnline</th>\n",
       "      <th>Churn</th>\n",
       "      <th>Maior65Anos</th>\n",
       "      <th>MesesDeContrato</th>\n",
       "      <th>ContaMensal</th>\n",
       "      <th>VariasLinhasTelefonicas_Nao</th>\n",
       "      <th>VariasLinhasTelefonicas_SemServicoTelefonico</th>\n",
       "      <th>VariasLinhasTelefonicas_Sim</th>\n",
       "      <th>ServicoDeInternet_DSL</th>\n",
       "      <th>ServicoDeInternet_FibraOptica</th>\n",
       "      <th>ServicoDeInternet_Nao</th>\n",
       "      <th>SegurancaOnline_Nao</th>\n",
       "      <th>SegurancaOnline_SemServicoDeInternet</th>\n",
       "      <th>SegurancaOnline_Sim</th>\n",
       "      <th>BackupOnline_Nao</th>\n",
       "      <th>BackupOnline_SemServicoDeInternet</th>\n",
       "      <th>BackupOnline_Sim</th>\n",
       "      <th>SeguroNoDispositivo_Nao</th>\n",
       "      <th>SeguroNoDispositivo_SemServicoDeInternet</th>\n",
       "      <th>SeguroNoDispositivo_Sim</th>\n",
       "      <th>SuporteTecnico_Nao</th>\n",
       "      <th>SuporteTecnico_SemServicoDeInternet</th>\n",
       "      <th>SuporteTecnico_Sim</th>\n",
       "      <th>TVaCabo_Nao</th>\n",
       "      <th>TVaCabo_SemServicoDeInternet</th>\n",
       "      <th>TVaCabo_Sim</th>\n",
       "      <th>StreamingDeFilmes_Nao</th>\n",
       "      <th>StreamingDeFilmes_SemServicoDeInternet</th>\n",
       "      <th>StreamingDeFilmes_Sim</th>\n",
       "      <th>TipoDeContrato_DoisAnos</th>\n",
       "      <th>TipoDeContrato_Mensalmente</th>\n",
       "      <th>TipoDeContrato_UmAno</th>\n",
       "      <th>FormaDePagamento_CartaoDeCredito</th>\n",
       "      <th>FormaDePagamento_ChequeDigital</th>\n",
       "      <th>FormaDePagamento_ChequePapel</th>\n",
       "      <th>FormaDePagamento_DebitoEmConta</th>\n",
       "    </tr>\n",
       "  </thead>\n",
       "  <tbody>\n",
       "    <tr>\n",
       "      <th>0</th>\n",
       "      <td>1</td>\n",
       "      <td>0</td>\n",
       "      <td>0</td>\n",
       "      <td>1</td>\n",
       "      <td>0</td>\n",
       "      <td>0</td>\n",
       "      <td>1</td>\n",
       "      <td>29.85</td>\n",
       "      <td>0</td>\n",
       "      <td>1</td>\n",
       "      <td>0</td>\n",
       "      <td>1</td>\n",
       "      <td>0</td>\n",
       "      <td>0</td>\n",
       "      <td>1</td>\n",
       "      <td>0</td>\n",
       "      <td>0</td>\n",
       "      <td>0</td>\n",
       "      <td>0</td>\n",
       "      <td>1</td>\n",
       "      <td>1</td>\n",
       "      <td>0</td>\n",
       "      <td>0</td>\n",
       "      <td>1</td>\n",
       "      <td>0</td>\n",
       "      <td>0</td>\n",
       "      <td>1</td>\n",
       "      <td>0</td>\n",
       "      <td>0</td>\n",
       "      <td>1</td>\n",
       "      <td>0</td>\n",
       "      <td>0</td>\n",
       "      <td>0</td>\n",
       "      <td>1</td>\n",
       "      <td>0</td>\n",
       "      <td>0</td>\n",
       "      <td>1</td>\n",
       "      <td>0</td>\n",
       "      <td>0</td>\n",
       "    </tr>\n",
       "    <tr>\n",
       "      <th>1</th>\n",
       "      <td>0</td>\n",
       "      <td>0</td>\n",
       "      <td>1</td>\n",
       "      <td>0</td>\n",
       "      <td>0</td>\n",
       "      <td>0</td>\n",
       "      <td>34</td>\n",
       "      <td>56.95</td>\n",
       "      <td>1</td>\n",
       "      <td>0</td>\n",
       "      <td>0</td>\n",
       "      <td>1</td>\n",
       "      <td>0</td>\n",
       "      <td>0</td>\n",
       "      <td>0</td>\n",
       "      <td>0</td>\n",
       "      <td>1</td>\n",
       "      <td>1</td>\n",
       "      <td>0</td>\n",
       "      <td>0</td>\n",
       "      <td>0</td>\n",
       "      <td>0</td>\n",
       "      <td>1</td>\n",
       "      <td>1</td>\n",
       "      <td>0</td>\n",
       "      <td>0</td>\n",
       "      <td>1</td>\n",
       "      <td>0</td>\n",
       "      <td>0</td>\n",
       "      <td>1</td>\n",
       "      <td>0</td>\n",
       "      <td>0</td>\n",
       "      <td>0</td>\n",
       "      <td>0</td>\n",
       "      <td>1</td>\n",
       "      <td>0</td>\n",
       "      <td>0</td>\n",
       "      <td>1</td>\n",
       "      <td>0</td>\n",
       "    </tr>\n",
       "    <tr>\n",
       "      <th>2</th>\n",
       "      <td>0</td>\n",
       "      <td>0</td>\n",
       "      <td>1</td>\n",
       "      <td>1</td>\n",
       "      <td>1</td>\n",
       "      <td>0</td>\n",
       "      <td>2</td>\n",
       "      <td>53.85</td>\n",
       "      <td>1</td>\n",
       "      <td>0</td>\n",
       "      <td>0</td>\n",
       "      <td>1</td>\n",
       "      <td>0</td>\n",
       "      <td>0</td>\n",
       "      <td>0</td>\n",
       "      <td>0</td>\n",
       "      <td>1</td>\n",
       "      <td>0</td>\n",
       "      <td>0</td>\n",
       "      <td>1</td>\n",
       "      <td>1</td>\n",
       "      <td>0</td>\n",
       "      <td>0</td>\n",
       "      <td>1</td>\n",
       "      <td>0</td>\n",
       "      <td>0</td>\n",
       "      <td>1</td>\n",
       "      <td>0</td>\n",
       "      <td>0</td>\n",
       "      <td>1</td>\n",
       "      <td>0</td>\n",
       "      <td>0</td>\n",
       "      <td>0</td>\n",
       "      <td>1</td>\n",
       "      <td>0</td>\n",
       "      <td>0</td>\n",
       "      <td>0</td>\n",
       "      <td>1</td>\n",
       "      <td>0</td>\n",
       "    </tr>\n",
       "    <tr>\n",
       "      <th>3</th>\n",
       "      <td>0</td>\n",
       "      <td>0</td>\n",
       "      <td>0</td>\n",
       "      <td>0</td>\n",
       "      <td>0</td>\n",
       "      <td>0</td>\n",
       "      <td>45</td>\n",
       "      <td>42.30</td>\n",
       "      <td>0</td>\n",
       "      <td>1</td>\n",
       "      <td>0</td>\n",
       "      <td>1</td>\n",
       "      <td>0</td>\n",
       "      <td>0</td>\n",
       "      <td>0</td>\n",
       "      <td>0</td>\n",
       "      <td>1</td>\n",
       "      <td>1</td>\n",
       "      <td>0</td>\n",
       "      <td>0</td>\n",
       "      <td>0</td>\n",
       "      <td>0</td>\n",
       "      <td>1</td>\n",
       "      <td>0</td>\n",
       "      <td>0</td>\n",
       "      <td>1</td>\n",
       "      <td>1</td>\n",
       "      <td>0</td>\n",
       "      <td>0</td>\n",
       "      <td>1</td>\n",
       "      <td>0</td>\n",
       "      <td>0</td>\n",
       "      <td>0</td>\n",
       "      <td>0</td>\n",
       "      <td>1</td>\n",
       "      <td>0</td>\n",
       "      <td>0</td>\n",
       "      <td>0</td>\n",
       "      <td>1</td>\n",
       "    </tr>\n",
       "    <tr>\n",
       "      <th>4</th>\n",
       "      <td>0</td>\n",
       "      <td>0</td>\n",
       "      <td>1</td>\n",
       "      <td>1</td>\n",
       "      <td>1</td>\n",
       "      <td>0</td>\n",
       "      <td>2</td>\n",
       "      <td>70.70</td>\n",
       "      <td>1</td>\n",
       "      <td>0</td>\n",
       "      <td>0</td>\n",
       "      <td>0</td>\n",
       "      <td>1</td>\n",
       "      <td>0</td>\n",
       "      <td>1</td>\n",
       "      <td>0</td>\n",
       "      <td>0</td>\n",
       "      <td>1</td>\n",
       "      <td>0</td>\n",
       "      <td>0</td>\n",
       "      <td>1</td>\n",
       "      <td>0</td>\n",
       "      <td>0</td>\n",
       "      <td>1</td>\n",
       "      <td>0</td>\n",
       "      <td>0</td>\n",
       "      <td>1</td>\n",
       "      <td>0</td>\n",
       "      <td>0</td>\n",
       "      <td>1</td>\n",
       "      <td>0</td>\n",
       "      <td>0</td>\n",
       "      <td>0</td>\n",
       "      <td>1</td>\n",
       "      <td>0</td>\n",
       "      <td>0</td>\n",
       "      <td>1</td>\n",
       "      <td>0</td>\n",
       "      <td>0</td>\n",
       "    </tr>\n",
       "  </tbody>\n",
       "</table>\n",
       "</div>"
      ],
      "text/plain": [
       "   Conjuge  Dependentes  TelefoneFixo  PagamentoOnline  Churn  Maior65Anos  \\\n",
       "0        1            0             0                1      0            0   \n",
       "1        0            0             1                0      0            0   \n",
       "2        0            0             1                1      1            0   \n",
       "3        0            0             0                0      0            0   \n",
       "4        0            0             1                1      1            0   \n",
       "\n",
       "   MesesDeContrato  ContaMensal  VariasLinhasTelefonicas_Nao  \\\n",
       "0                1        29.85                            0   \n",
       "1               34        56.95                            1   \n",
       "2                2        53.85                            1   \n",
       "3               45        42.30                            0   \n",
       "4                2        70.70                            1   \n",
       "\n",
       "   VariasLinhasTelefonicas_SemServicoTelefonico  VariasLinhasTelefonicas_Sim  \\\n",
       "0                                             1                            0   \n",
       "1                                             0                            0   \n",
       "2                                             0                            0   \n",
       "3                                             1                            0   \n",
       "4                                             0                            0   \n",
       "\n",
       "   ServicoDeInternet_DSL  ServicoDeInternet_FibraOptica  \\\n",
       "0                      1                              0   \n",
       "1                      1                              0   \n",
       "2                      1                              0   \n",
       "3                      1                              0   \n",
       "4                      0                              1   \n",
       "\n",
       "   ServicoDeInternet_Nao  SegurancaOnline_Nao  \\\n",
       "0                      0                    1   \n",
       "1                      0                    0   \n",
       "2                      0                    0   \n",
       "3                      0                    0   \n",
       "4                      0                    1   \n",
       "\n",
       "   SegurancaOnline_SemServicoDeInternet  SegurancaOnline_Sim  \\\n",
       "0                                     0                    0   \n",
       "1                                     0                    1   \n",
       "2                                     0                    1   \n",
       "3                                     0                    1   \n",
       "4                                     0                    0   \n",
       "\n",
       "   BackupOnline_Nao  BackupOnline_SemServicoDeInternet  BackupOnline_Sim  \\\n",
       "0                 0                                  0                 1   \n",
       "1                 1                                  0                 0   \n",
       "2                 0                                  0                 1   \n",
       "3                 1                                  0                 0   \n",
       "4                 1                                  0                 0   \n",
       "\n",
       "   SeguroNoDispositivo_Nao  SeguroNoDispositivo_SemServicoDeInternet  \\\n",
       "0                        1                                         0   \n",
       "1                        0                                         0   \n",
       "2                        1                                         0   \n",
       "3                        0                                         0   \n",
       "4                        1                                         0   \n",
       "\n",
       "   SeguroNoDispositivo_Sim  SuporteTecnico_Nao  \\\n",
       "0                        0                   1   \n",
       "1                        1                   1   \n",
       "2                        0                   1   \n",
       "3                        1                   0   \n",
       "4                        0                   1   \n",
       "\n",
       "   SuporteTecnico_SemServicoDeInternet  SuporteTecnico_Sim  TVaCabo_Nao  \\\n",
       "0                                    0                   0            1   \n",
       "1                                    0                   0            1   \n",
       "2                                    0                   0            1   \n",
       "3                                    0                   1            1   \n",
       "4                                    0                   0            1   \n",
       "\n",
       "   TVaCabo_SemServicoDeInternet  TVaCabo_Sim  StreamingDeFilmes_Nao  \\\n",
       "0                             0            0                      1   \n",
       "1                             0            0                      1   \n",
       "2                             0            0                      1   \n",
       "3                             0            0                      1   \n",
       "4                             0            0                      1   \n",
       "\n",
       "   StreamingDeFilmes_SemServicoDeInternet  StreamingDeFilmes_Sim  \\\n",
       "0                                       0                      0   \n",
       "1                                       0                      0   \n",
       "2                                       0                      0   \n",
       "3                                       0                      0   \n",
       "4                                       0                      0   \n",
       "\n",
       "   TipoDeContrato_DoisAnos  TipoDeContrato_Mensalmente  TipoDeContrato_UmAno  \\\n",
       "0                        0                           1                     0   \n",
       "1                        0                           0                     1   \n",
       "2                        0                           1                     0   \n",
       "3                        0                           0                     1   \n",
       "4                        0                           1                     0   \n",
       "\n",
       "   FormaDePagamento_CartaoDeCredito  FormaDePagamento_ChequeDigital  \\\n",
       "0                                 0                               1   \n",
       "1                                 0                               0   \n",
       "2                                 0                               0   \n",
       "3                                 0                               0   \n",
       "4                                 0                               1   \n",
       "\n",
       "   FormaDePagamento_ChequePapel  FormaDePagamento_DebitoEmConta  \n",
       "0                             0                               0  \n",
       "1                             1                               0  \n",
       "2                             1                               0  \n",
       "3                             0                               1  \n",
       "4                             0                               0  "
      ]
     },
     "execution_count": 12,
     "metadata": {},
     "output_type": "execute_result"
    }
   ],
   "source": [
    "dados_final.head()"
   ]
  },
  {
   "cell_type": "markdown",
   "metadata": {},
   "source": [
    "#"
   ]
  },
  {
   "cell_type": "markdown",
   "metadata": {},
   "source": [
    "### 1.4 - Verificando se os dados estão desbalanceados"
   ]
  },
  {
   "cell_type": "code",
   "execution_count": 13,
   "metadata": {},
   "outputs": [],
   "source": [
    "# Carregando blibliotecas para auxiliar na análise\n",
    "\n",
    "import seaborn as sns\n",
    "import matplotlib.pyplot as plt"
   ]
  },
  {
   "cell_type": "code",
   "execution_count": 14,
   "metadata": {},
   "outputs": [
    {
     "data": {
      "image/png": "[encoded data removed]",
      "text/plain": [
       "<Figure size 640x480 with 1 Axes>"
      ]
     },
     "metadata": {},
     "output_type": "display_data"
    }
   ],
   "source": [
    "# Plotando variável resposta\n",
    "\n",
    "sns.countplot(x='Churn', data=dados_final)\n",
    "plt.show()"
   ]
  },
  {
   "cell_type": "code",
   "execution_count": 15,
   "metadata": {},
   "outputs": [],
   "source": [
    "# Realizando split da base\n",
    "\n",
    "x = dados_final.drop(['Churn'], axis=1)\n",
    "y = dados_final.Churn"
   ]
  },
  {
   "cell_type": "code",
   "execution_count": 16,
   "metadata": {},
   "outputs": [],
   "source": [
    "# Importando lib para os dados desbalanceados\n",
    "\n",
    "from imblearn.over_sampling import SMOTE"
   ]
  },
  {
   "cell_type": "code",
   "execution_count": 17,
   "metadata": {},
   "outputs": [],
   "source": [
    "# Instanciando objeto\n",
    "\n",
    "smt = SMOTE(random_state=123)\n",
    "X, y = smt.fit_resample(x, y)"
   ]
  },
  {
   "cell_type": "code",
   "execution_count": 18,
   "metadata": {},
   "outputs": [
    {
     "data": {
      "text/html": [
       "<div>\n",
       "<style scoped>\n",
       "    .dataframe tbody tr th:only-of-type {\n",
       "        vertical-align: middle;\n",
       "    }\n",
       "\n",
       "    .dataframe tbody tr th {\n",
       "        vertical-align: top;\n",
       "    }\n",
       "\n",
       "    .dataframe thead th {\n",
       "        text-align: right;\n",
       "    }\n",
       "</style>\n",
       "<table border=\"1\" class=\"dataframe\">\n",
       "  <thead>\n",
       "    <tr style=\"text-align: right;\">\n",
       "      <th></th>\n",
       "      <th>Conjuge</th>\n",
       "      <th>Dependentes</th>\n",
       "      <th>TelefoneFixo</th>\n",
       "      <th>PagamentoOnline</th>\n",
       "      <th>Maior65Anos</th>\n",
       "      <th>MesesDeContrato</th>\n",
       "      <th>ContaMensal</th>\n",
       "      <th>VariasLinhasTelefonicas_Nao</th>\n",
       "      <th>VariasLinhasTelefonicas_SemServicoTelefonico</th>\n",
       "      <th>VariasLinhasTelefonicas_Sim</th>\n",
       "      <th>ServicoDeInternet_DSL</th>\n",
       "      <th>ServicoDeInternet_FibraOptica</th>\n",
       "      <th>ServicoDeInternet_Nao</th>\n",
       "      <th>SegurancaOnline_Nao</th>\n",
       "      <th>SegurancaOnline_SemServicoDeInternet</th>\n",
       "      <th>SegurancaOnline_Sim</th>\n",
       "      <th>BackupOnline_Nao</th>\n",
       "      <th>BackupOnline_SemServicoDeInternet</th>\n",
       "      <th>BackupOnline_Sim</th>\n",
       "      <th>SeguroNoDispositivo_Nao</th>\n",
       "      <th>SeguroNoDispositivo_SemServicoDeInternet</th>\n",
       "      <th>SeguroNoDispositivo_Sim</th>\n",
       "      <th>SuporteTecnico_Nao</th>\n",
       "      <th>SuporteTecnico_SemServicoDeInternet</th>\n",
       "      <th>SuporteTecnico_Sim</th>\n",
       "      <th>TVaCabo_Nao</th>\n",
       "      <th>TVaCabo_SemServicoDeInternet</th>\n",
       "      <th>TVaCabo_Sim</th>\n",
       "      <th>StreamingDeFilmes_Nao</th>\n",
       "      <th>StreamingDeFilmes_SemServicoDeInternet</th>\n",
       "      <th>StreamingDeFilmes_Sim</th>\n",
       "      <th>TipoDeContrato_DoisAnos</th>\n",
       "      <th>TipoDeContrato_Mensalmente</th>\n",
       "      <th>TipoDeContrato_UmAno</th>\n",
       "      <th>FormaDePagamento_CartaoDeCredito</th>\n",
       "      <th>FormaDePagamento_ChequeDigital</th>\n",
       "      <th>FormaDePagamento_ChequePapel</th>\n",
       "      <th>FormaDePagamento_DebitoEmConta</th>\n",
       "      <th>Churn</th>\n",
       "    </tr>\n",
       "  </thead>\n",
       "  <tbody>\n",
       "    <tr>\n",
       "      <th>0</th>\n",
       "      <td>1</td>\n",
       "      <td>0</td>\n",
       "      <td>0</td>\n",
       "      <td>1</td>\n",
       "      <td>0</td>\n",
       "      <td>1</td>\n",
       "      <td>29.85</td>\n",
       "      <td>0</td>\n",
       "      <td>1</td>\n",
       "      <td>0</td>\n",
       "      <td>1</td>\n",
       "      <td>0</td>\n",
       "      <td>0</td>\n",
       "      <td>1</td>\n",
       "      <td>0</td>\n",
       "      <td>0</td>\n",
       "      <td>0</td>\n",
       "      <td>0</td>\n",
       "      <td>1</td>\n",
       "      <td>1</td>\n",
       "      <td>0</td>\n",
       "      <td>0</td>\n",
       "      <td>1</td>\n",
       "      <td>0</td>\n",
       "      <td>0</td>\n",
       "      <td>1</td>\n",
       "      <td>0</td>\n",
       "      <td>0</td>\n",
       "      <td>1</td>\n",
       "      <td>0</td>\n",
       "      <td>0</td>\n",
       "      <td>0</td>\n",
       "      <td>1</td>\n",
       "      <td>0</td>\n",
       "      <td>0</td>\n",
       "      <td>1</td>\n",
       "      <td>0</td>\n",
       "      <td>0</td>\n",
       "      <td>0</td>\n",
       "    </tr>\n",
       "    <tr>\n",
       "      <th>1</th>\n",
       "      <td>0</td>\n",
       "      <td>0</td>\n",
       "      <td>1</td>\n",
       "      <td>0</td>\n",
       "      <td>0</td>\n",
       "      <td>34</td>\n",
       "      <td>56.95</td>\n",
       "      <td>1</td>\n",
       "      <td>0</td>\n",
       "      <td>0</td>\n",
       "      <td>1</td>\n",
       "      <td>0</td>\n",
       "      <td>0</td>\n",
       "      <td>0</td>\n",
       "      <td>0</td>\n",
       "      <td>1</td>\n",
       "      <td>1</td>\n",
       "      <td>0</td>\n",
       "      <td>0</td>\n",
       "      <td>0</td>\n",
       "      <td>0</td>\n",
       "      <td>1</td>\n",
       "      <td>1</td>\n",
       "      <td>0</td>\n",
       "      <td>0</td>\n",
       "      <td>1</td>\n",
       "      <td>0</td>\n",
       "      <td>0</td>\n",
       "      <td>1</td>\n",
       "      <td>0</td>\n",
       "      <td>0</td>\n",
       "      <td>0</td>\n",
       "      <td>0</td>\n",
       "      <td>1</td>\n",
       "      <td>0</td>\n",
       "      <td>0</td>\n",
       "      <td>1</td>\n",
       "      <td>0</td>\n",
       "      <td>0</td>\n",
       "    </tr>\n",
       "    <tr>\n",
       "      <th>2</th>\n",
       "      <td>0</td>\n",
       "      <td>0</td>\n",
       "      <td>1</td>\n",
       "      <td>1</td>\n",
       "      <td>0</td>\n",
       "      <td>2</td>\n",
       "      <td>53.85</td>\n",
       "      <td>1</td>\n",
       "      <td>0</td>\n",
       "      <td>0</td>\n",
       "      <td>1</td>\n",
       "      <td>0</td>\n",
       "      <td>0</td>\n",
       "      <td>0</td>\n",
       "      <td>0</td>\n",
       "      <td>1</td>\n",
       "      <td>0</td>\n",
       "      <td>0</td>\n",
       "      <td>1</td>\n",
       "      <td>1</td>\n",
       "      <td>0</td>\n",
       "      <td>0</td>\n",
       "      <td>1</td>\n",
       "      <td>0</td>\n",
       "      <td>0</td>\n",
       "      <td>1</td>\n",
       "      <td>0</td>\n",
       "      <td>0</td>\n",
       "      <td>1</td>\n",
       "      <td>0</td>\n",
       "      <td>0</td>\n",
       "      <td>0</td>\n",
       "      <td>1</td>\n",
       "      <td>0</td>\n",
       "      <td>0</td>\n",
       "      <td>0</td>\n",
       "      <td>1</td>\n",
       "      <td>0</td>\n",
       "      <td>1</td>\n",
       "    </tr>\n",
       "    <tr>\n",
       "      <th>3</th>\n",
       "      <td>0</td>\n",
       "      <td>0</td>\n",
       "      <td>0</td>\n",
       "      <td>0</td>\n",
       "      <td>0</td>\n",
       "      <td>45</td>\n",
       "      <td>42.30</td>\n",
       "      <td>0</td>\n",
       "      <td>1</td>\n",
       "      <td>0</td>\n",
       "      <td>1</td>\n",
       "      <td>0</td>\n",
       "      <td>0</td>\n",
       "      <td>0</td>\n",
       "      <td>0</td>\n",
       "      <td>1</td>\n",
       "      <td>1</td>\n",
       "      <td>0</td>\n",
       "      <td>0</td>\n",
       "      <td>0</td>\n",
       "      <td>0</td>\n",
       "      <td>1</td>\n",
       "      <td>0</td>\n",
       "      <td>0</td>\n",
       "      <td>1</td>\n",
       "      <td>1</td>\n",
       "      <td>0</td>\n",
       "      <td>0</td>\n",
       "      <td>1</td>\n",
       "      <td>0</td>\n",
       "      <td>0</td>\n",
       "      <td>0</td>\n",
       "      <td>0</td>\n",
       "      <td>1</td>\n",
       "      <td>0</td>\n",
       "      <td>0</td>\n",
       "      <td>0</td>\n",
       "      <td>1</td>\n",
       "      <td>0</td>\n",
       "    </tr>\n",
       "    <tr>\n",
       "      <th>4</th>\n",
       "      <td>0</td>\n",
       "      <td>0</td>\n",
       "      <td>1</td>\n",
       "      <td>1</td>\n",
       "      <td>0</td>\n",
       "      <td>2</td>\n",
       "      <td>70.70</td>\n",
       "      <td>1</td>\n",
       "      <td>0</td>\n",
       "      <td>0</td>\n",
       "      <td>0</td>\n",
       "      <td>1</td>\n",
       "      <td>0</td>\n",
       "      <td>1</td>\n",
       "      <td>0</td>\n",
       "      <td>0</td>\n",
       "      <td>1</td>\n",
       "      <td>0</td>\n",
       "      <td>0</td>\n",
       "      <td>1</td>\n",
       "      <td>0</td>\n",
       "      <td>0</td>\n",
       "      <td>1</td>\n",
       "      <td>0</td>\n",
       "      <td>0</td>\n",
       "      <td>1</td>\n",
       "      <td>0</td>\n",
       "      <td>0</td>\n",
       "      <td>1</td>\n",
       "      <td>0</td>\n",
       "      <td>0</td>\n",
       "      <td>0</td>\n",
       "      <td>1</td>\n",
       "      <td>0</td>\n",
       "      <td>0</td>\n",
       "      <td>1</td>\n",
       "      <td>0</td>\n",
       "      <td>0</td>\n",
       "      <td>1</td>\n",
       "    </tr>\n",
       "  </tbody>\n",
       "</table>\n",
       "</div>"
      ],
      "text/plain": [
       "   Conjuge  Dependentes  TelefoneFixo  PagamentoOnline  Maior65Anos  \\\n",
       "0        1            0             0                1            0   \n",
       "1        0            0             1                0            0   \n",
       "2        0            0             1                1            0   \n",
       "3        0            0             0                0            0   \n",
       "4        0            0             1                1            0   \n",
       "\n",
       "   MesesDeContrato  ContaMensal  VariasLinhasTelefonicas_Nao  \\\n",
       "0                1        29.85                            0   \n",
       "1               34        56.95                            1   \n",
       "2                2        53.85                            1   \n",
       "3               45        42.30                            0   \n",
       "4                2        70.70                            1   \n",
       "\n",
       "   VariasLinhasTelefonicas_SemServicoTelefonico  VariasLinhasTelefonicas_Sim  \\\n",
       "0                                             1                            0   \n",
       "1                                             0                            0   \n",
       "2                                             0                            0   \n",
       "3                                             1                            0   \n",
       "4                                             0                            0   \n",
       "\n",
       "   ServicoDeInternet_DSL  ServicoDeInternet_FibraOptica  \\\n",
       "0                      1                              0   \n",
       "1                      1                              0   \n",
       "2                      1                              0   \n",
       "3                      1                              0   \n",
       "4                      0                              1   \n",
       "\n",
       "   ServicoDeInternet_Nao  SegurancaOnline_Nao  \\\n",
       "0                      0                    1   \n",
       "1                      0                    0   \n",
       "2                      0                    0   \n",
       "3                      0                    0   \n",
       "4                      0                    1   \n",
       "\n",
       "   SegurancaOnline_SemServicoDeInternet  SegurancaOnline_Sim  \\\n",
       "0                                     0                    0   \n",
       "1                                     0                    1   \n",
       "2                                     0                    1   \n",
       "3                                     0                    1   \n",
       "4                                     0                    0   \n",
       "\n",
       "   BackupOnline_Nao  BackupOnline_SemServicoDeInternet  BackupOnline_Sim  \\\n",
       "0                 0                                  0                 1   \n",
       "1                 1                                  0                 0   \n",
       "2                 0                                  0                 1   \n",
       "3                 1                                  0                 0   \n",
       "4                 1                                  0                 0   \n",
       "\n",
       "   SeguroNoDispositivo_Nao  SeguroNoDispositivo_SemServicoDeInternet  \\\n",
       "0                        1                                         0   \n",
       "1                        0                                         0   \n",
       "2                        1                                         0   \n",
       "3                        0                                         0   \n",
       "4                        1                                         0   \n",
       "\n",
       "   SeguroNoDispositivo_Sim  SuporteTecnico_Nao  \\\n",
       "0                        0                   1   \n",
       "1                        1                   1   \n",
       "2                        0                   1   \n",
       "3                        1                   0   \n",
       "4                        0                   1   \n",
       "\n",
       "   SuporteTecnico_SemServicoDeInternet  SuporteTecnico_Sim  TVaCabo_Nao  \\\n",
       "0                                    0                   0            1   \n",
       "1                                    0                   0            1   \n",
       "2                                    0                   0            1   \n",
       "3                                    0                   1            1   \n",
       "4                                    0                   0            1   \n",
       "\n",
       "   TVaCabo_SemServicoDeInternet  TVaCabo_Sim  StreamingDeFilmes_Nao  \\\n",
       "0                             0            0                      1   \n",
       "1                             0            0                      1   \n",
       "2                             0            0                      1   \n",
       "3                             0            0                      1   \n",
       "4                             0            0                      1   \n",
       "\n",
       "   StreamingDeFilmes_SemServicoDeInternet  StreamingDeFilmes_Sim  \\\n",
       "0                                       0                      0   \n",
       "1                                       0                      0   \n",
       "2                                       0                      0   \n",
       "3                                       0                      0   \n",
       "4                                       0                      0   \n",
       "\n",
       "   TipoDeContrato_DoisAnos  TipoDeContrato_Mensalmente  TipoDeContrato_UmAno  \\\n",
       "0                        0                           1                     0   \n",
       "1                        0                           0                     1   \n",
       "2                        0                           1                     0   \n",
       "3                        0                           0                     1   \n",
       "4                        0                           1                     0   \n",
       "\n",
       "   FormaDePagamento_CartaoDeCredito  FormaDePagamento_ChequeDigital  \\\n",
       "0                                 0                               1   \n",
       "1                                 0                               0   \n",
       "2                                 0                               0   \n",
       "3                                 0                               0   \n",
       "4                                 0                               1   \n",
       "\n",
       "   FormaDePagamento_ChequePapel  FormaDePagamento_DebitoEmConta  Churn  \n",
       "0                             0                               0      0  \n",
       "1                             1                               0      0  \n",
       "2                             1                               0      1  \n",
       "3                             0                               1      0  \n",
       "4                             0                               0      1  "
      ]
     },
     "execution_count": 18,
     "metadata": {},
     "output_type": "execute_result"
    }
   ],
   "source": [
    "# Concatenando os resultados e mostrando os primeiros registros\n",
    "\n",
    "dados_final = pd.concat([X, y], axis=1)\n",
    "dados_final.head()"
   ]
  },
  {
   "cell_type": "code",
   "execution_count": 19,
   "metadata": {},
   "outputs": [
    {
     "data": {
      "image/png": "[encoded data removed]",
      "text/plain": [
       "<Figure size 640x480 with 1 Axes>"
      ]
     },
     "metadata": {},
     "output_type": "display_data"
    }
   ],
   "source": [
    "# Plotando resultado resposta após balanceamento da variável resposta\n",
    "\n",
    "sns.countplot(x='Churn', data=dados_final)\n",
    "plt.show()"
   ]
  },
  {
   "cell_type": "markdown",
   "metadata": {},
   "source": [
    "#"
   ]
  },
  {
   "cell_type": "markdown",
   "metadata": {},
   "source": [
    "# Aula 2 - Método baseado na proximidade"
   ]
  },
  {
   "cell_type": "markdown",
   "metadata": {},
   "source": [
    "### 2.1 - Modelo KNN"
   ]
  },
  {
   "cell_type": "markdown",
   "metadata": {},
   "source": [
    "##"
   ]
  },
  {
   "cell_type": "markdown",
   "metadata": {},
   "source": [
    "### 2.2 - KNN por trás dos panos"
   ]
  },
  {
   "cell_type": "code",
   "execution_count": 20,
   "metadata": {},
   "outputs": [],
   "source": [
    "# Declarar variável xmaria\n",
    "\n",
    "Xmaria = [[0,0,1,1,0,0,39.90,1,0,0,0,1,0,1,0,0,0,0,1,1,1,0,0,1,0,1,0,0,0,0,1,0,0,1,0,0,0,1]]"
   ]
  },
  {
   "cell_type": "code",
   "execution_count": 21,
   "metadata": {},
   "outputs": [],
   "source": [
    "# Realizando split das features e target\n",
    "\n",
    "X = dados_final.drop('Churn', axis=1)\n",
    "y = dados_final.Churn"
   ]
  },
  {
   "cell_type": "code",
   "execution_count": 22,
   "metadata": {},
   "outputs": [],
   "source": [
    "# Importando biblioteca de pré-processamento e demais bibliotecas para auxiliar\n",
    "\n",
    "from sklearn.preprocessing import StandardScaler\n",
    "import pandas as pd\n",
    "import numpy as np"
   ]
  },
  {
   "cell_type": "code",
   "execution_count": 23,
   "metadata": {},
   "outputs": [],
   "source": [
    "# Instanciando modelo pré-processado\n",
    "\n",
    "norm = StandardScaler()"
   ]
  },
  {
   "cell_type": "code",
   "execution_count": 24,
   "metadata": {},
   "outputs": [
    {
     "data": {
      "text/plain": [
       "array([[ 1.26542767, -0.52756038, -3.06083934, ...,  1.30292044,\n",
       "        -0.47943196, -0.43617215],\n",
       "       [-0.79024667, -0.52756038,  0.32670777, ..., -0.76750657,\n",
       "         2.08580171, -0.43617215],\n",
       "       [-0.79024667, -0.52756038,  0.32670777, ..., -0.76750657,\n",
       "         2.08580171, -0.43617215],\n",
       "       ...,\n",
       "       [-0.79024667, -0.52756038,  0.32670777, ...,  1.30292044,\n",
       "        -0.47943196, -0.43617215],\n",
       "       [-0.79024667, -0.52756038,  0.32670777, ..., -0.76750657,\n",
       "        -0.47943196, -0.43617215],\n",
       "       [-0.79024667, -0.52756038,  0.32670777, ..., -0.76750657,\n",
       "        -0.47943196, -0.43617215]])"
      ]
     },
     "execution_count": 24,
     "metadata": {},
     "output_type": "execute_result"
    }
   ],
   "source": [
    "# Pré-processando as variáveis\n",
    "\n",
    "X_normalizado = norm.fit_transform(X)\n",
    "X_normalizado"
   ]
  },
  {
   "cell_type": "code",
   "execution_count": 25,
   "metadata": {},
   "outputs": [
    {
     "data": {
      "text/plain": [
       "array([ 1.26542767, -0.52756038, -3.06083934,  0.8149851 , -0.41334384,\n",
       "       -1.10768354, -1.32176205, -0.88482108,  3.18604176, -0.83366906,\n",
       "        1.51268338, -1.04386816, -0.44617598,  0.868102  , -0.44617598,\n",
       "       -0.5173695 , -0.95871762, -0.44617598,  1.57389661,  1.04326198,\n",
       "       -0.44617598, -0.64211419,  0.87997069, -0.44617598, -0.52426638,\n",
       "        1.18643645, -0.44617598, -0.77707385,  1.2033586 , -0.44617598,\n",
       "       -0.78992399, -0.44648735,  0.73773107, -0.41989297, -0.42576817,\n",
       "        1.30292044, -0.47943196, -0.43617215])"
      ]
     },
     "execution_count": 25,
     "metadata": {},
     "output_type": "execute_result"
    }
   ],
   "source": [
    "# Olhando os dados de Conjuge normalizado\n",
    "\n",
    "X_normalizado[0]"
   ]
  },
  {
   "cell_type": "code",
   "execution_count": 26,
   "metadata": {},
   "outputs": [
    {
     "data": {
      "text/plain": [
       "array([[-0.79024667, -0.52756038,  0.32670777,  0.8149851 , -0.41334384,\n",
       "        -1.14934709, -0.97235471,  1.13017199, -0.31386908, -0.83366906,\n",
       "        -0.66107688,  0.95797538, -0.44617598,  0.868102  , -0.44617598,\n",
       "        -0.5173695 , -0.95871762, -0.44617598,  1.57389661,  1.04326198,\n",
       "         2.24126814, -0.64211419, -1.13640148,  2.24126814, -0.52426638,\n",
       "         1.18643645, -0.44617598, -0.77707385, -0.83100748, -0.44617598,\n",
       "         1.26594459, -0.44648735, -1.35550751,  2.38155929, -0.42576817,\n",
       "        -0.76750657, -0.47943196,  2.29267273]])"
      ]
     },
     "execution_count": 26,
     "metadata": {},
     "output_type": "execute_result"
    }
   ],
   "source": [
    "# Normalizando dados xmaria\n",
    "\n",
    "Xmaria_normalizado = norm.transform(pd.DataFrame(Xmaria, columns=X.columns))\n",
    "Xmaria_normalizado"
   ]
  },
  {
   "cell_type": "code",
   "execution_count": 27,
   "metadata": {},
   "outputs": [],
   "source": [
    "# Atribuindo conjunto normalizado a uma variável qualquer\n",
    "\n",
    "a = Xmaria_normalizado"
   ]
  },
  {
   "cell_type": "code",
   "execution_count": 28,
   "metadata": {},
   "outputs": [],
   "source": [
    "# Utilizando dados para calculo\n",
    "\n",
    "b = X_normalizado[0]"
   ]
  },
  {
   "cell_type": "code",
   "execution_count": 29,
   "metadata": {},
   "outputs": [
    {
     "data": {
      "text/plain": [
       "array([[-2.05567434,  0.        ,  3.38754711,  0.        ,  0.        ,\n",
       "        -0.04166355,  0.34940734,  2.01499307, -3.49991084,  0.        ,\n",
       "        -2.17376025,  2.00184354,  0.        ,  0.        ,  0.        ,\n",
       "         0.        ,  0.        ,  0.        ,  0.        ,  0.        ,\n",
       "         2.68744412,  0.        , -2.01637218,  2.68744412,  0.        ,\n",
       "         0.        ,  0.        ,  0.        , -2.03436608,  0.        ,\n",
       "         2.05586858,  0.        , -2.09323857,  2.80145225,  0.        ,\n",
       "        -2.07042701,  0.        ,  2.72884488]])"
      ]
     },
     "execution_count": 29,
     "metadata": {},
     "output_type": "execute_result"
    }
   ],
   "source": [
    "# Realizando subtração dos arrays\n",
    "\n",
    "a - b"
   ]
  },
  {
   "cell_type": "code",
   "execution_count": 30,
   "metadata": {},
   "outputs": [
    {
     "data": {
      "text/plain": [
       "array([[4.22579699e+00, 0.00000000e+00, 1.14754754e+01, 0.00000000e+00,\n",
       "        0.00000000e+00, 1.73585140e-03, 1.22085486e-01, 4.06019707e+00,\n",
       "        1.22493759e+01, 0.00000000e+00, 4.72523363e+00, 4.00737757e+00,\n",
       "        0.00000000e+00, 0.00000000e+00, 0.00000000e+00, 0.00000000e+00,\n",
       "        0.00000000e+00, 0.00000000e+00, 0.00000000e+00, 0.00000000e+00,\n",
       "        7.22235589e+00, 0.00000000e+00, 4.06575675e+00, 7.22235589e+00,\n",
       "        0.00000000e+00, 0.00000000e+00, 0.00000000e+00, 0.00000000e+00,\n",
       "        4.13864535e+00, 0.00000000e+00, 4.22659561e+00, 0.00000000e+00,\n",
       "        4.38164773e+00, 7.84813473e+00, 0.00000000e+00, 4.28666801e+00,\n",
       "        0.00000000e+00, 7.44659439e+00]])"
      ]
     },
     "execution_count": 30,
     "metadata": {},
     "output_type": "execute_result"
    }
   ],
   "source": [
    "# Realizando a exponenciação\n",
    "\n",
    "np.square(a-b)"
   ]
  },
  {
   "cell_type": "code",
   "execution_count": 31,
   "metadata": {},
   "outputs": [
    {
     "data": {
      "text/plain": [
       "91.70603225977928"
      ]
     },
     "execution_count": 31,
     "metadata": {},
     "output_type": "execute_result"
    }
   ],
   "source": [
    "np.sum(np.square(a-b))"
   ]
  },
  {
   "cell_type": "code",
   "execution_count": 32,
   "metadata": {},
   "outputs": [
    {
     "data": {
      "text/plain": [
       "9.576326657950807"
      ]
     },
     "execution_count": 32,
     "metadata": {},
     "output_type": "execute_result"
    }
   ],
   "source": [
    "# Obtendo a distancia calculando a raiz quadrada\n",
    "\n",
    "np.sqrt(91.70603225977928)"
   ]
  },
  {
   "cell_type": "markdown",
   "metadata": {},
   "source": [
    "#"
   ]
  },
  {
   "cell_type": "markdown",
   "metadata": {},
   "source": [
    "### 2.3 - Implementando o modelo"
   ]
  },
  {
   "cell_type": "code",
   "execution_count": 33,
   "metadata": {},
   "outputs": [],
   "source": [
    "# biblioteca para divisão dos dados e criar modelo de Machine Learning\n",
    "\n",
    "from sklearn.model_selection import train_test_split\n",
    "from sklearn.neighbors import KNeighborsClassifier"
   ]
  },
  {
   "cell_type": "code",
   "execution_count": 34,
   "metadata": {},
   "outputs": [],
   "source": [
    "# Realizando o split da base\n",
    "\n",
    "x_treino, x_teste, y_treino, y_teste = train_test_split(X_normalizado, y, test_size=0.3, random_state=123)"
   ]
  },
  {
   "cell_type": "code",
   "execution_count": 35,
   "metadata": {},
   "outputs": [],
   "source": [
    "# Instanciando modelo\n",
    "\n",
    "knn = KNeighborsClassifier(metric='euclidean')"
   ]
  },
  {
   "cell_type": "code",
   "execution_count": 36,
   "metadata": {},
   "outputs": [
    {
     "data": {
      "text/plain": [
       "KNeighborsClassifier(metric='euclidean')"
      ]
     },
     "execution_count": 36,
     "metadata": {},
     "output_type": "execute_result"
    }
   ],
   "source": [
    "# Treinando modelo com dados de treino\n",
    "\n",
    "knn.fit(x_treino, y_treino)"
   ]
  },
  {
   "cell_type": "code",
   "execution_count": 37,
   "metadata": {},
   "outputs": [
    {
     "data": {
      "text/plain": [
       "array([1, 0, 0, ..., 0, 1, 1], dtype=int64)"
      ]
     },
     "execution_count": 37,
     "metadata": {},
     "output_type": "execute_result"
    }
   ],
   "source": [
    "# testando o modelo com os dados de teste\n",
    "\n",
    "predict_knn = knn.predict(x_teste)\n",
    "predict_knn"
   ]
  },
  {
   "cell_type": "code",
   "execution_count": 38,
   "metadata": {},
   "outputs": [
    {
     "data": {
      "text/plain": [
       "-0.4461759755508453"
      ]
     },
     "execution_count": 38,
     "metadata": {},
     "output_type": "execute_result"
    }
   ],
   "source": [
    "# Obtendo mediana dos dados ordenados\n",
    "\n",
    "np.median(x_treino)"
   ]
  },
  {
   "cell_type": "markdown",
   "metadata": {},
   "source": [
    "#"
   ]
  },
  {
   "cell_type": "markdown",
   "metadata": {},
   "source": [
    "# Aula 3 - Naive Bayes"
   ]
  },
  {
   "cell_type": "code",
   "execution_count": 39,
   "metadata": {},
   "outputs": [],
   "source": [
    "# Importando Modelo naive bayes\n",
    "\n",
    "from sklearn.naive_bayes import BernoulliNB"
   ]
  },
  {
   "cell_type": "code",
   "execution_count": 40,
   "metadata": {},
   "outputs": [],
   "source": [
    "# Instanciando modelo \n",
    "\n",
    "bnb = BernoulliNB(binarize=-0.4461759755508453)"
   ]
  },
  {
   "cell_type": "code",
   "execution_count": 41,
   "metadata": {},
   "outputs": [
    {
     "data": {
      "text/plain": [
       "array([1, 0, 0, ..., 1, 1, 1], dtype=int64)"
      ]
     },
     "execution_count": 41,
     "metadata": {},
     "output_type": "execute_result"
    }
   ],
   "source": [
    "# treinando modelo e realizando previsão\n",
    "\n",
    "bnb.fit(x_treino, y_treino)\n",
    "pred_bnb = bnb.predict(x_teste)\n",
    "pred_bnb"
   ]
  },
  {
   "cell_type": "markdown",
   "metadata": {},
   "source": [
    "#"
   ]
  },
  {
   "cell_type": "markdown",
   "metadata": {},
   "source": [
    "# Aula 4 - Decision Tree"
   ]
  },
  {
   "cell_type": "code",
   "execution_count": 42,
   "metadata": {},
   "outputs": [],
   "source": [
    "# Carregando biblioteca de Arvore de Decisão\n",
    "\n",
    "from sklearn.tree import DecisionTreeClassifier"
   ]
  },
  {
   "cell_type": "code",
   "execution_count": 43,
   "metadata": {},
   "outputs": [
    {
     "data": {
      "text/plain": [
       "DecisionTreeClassifier(criterion='entropy', random_state=42)"
      ]
     },
     "execution_count": 43,
     "metadata": {},
     "output_type": "execute_result"
    }
   ],
   "source": [
    "# Instanciando e treinando modelo\n",
    "\n",
    "dtc = DecisionTreeClassifier(criterion='entropy', random_state=42)\n",
    "dtc.fit(x_treino, y_treino)"
   ]
  },
  {
   "cell_type": "code",
   "execution_count": 44,
   "metadata": {},
   "outputs": [
    {
     "data": {
      "text/plain": [
       "array([0.02100894, 0.01395648, 0.0068095 , 0.01987306, 0.01892071,\n",
       "       0.16274644, 0.22207834, 0.00929414, 0.00344576, 0.01033768,\n",
       "       0.0019815 , 0.03131262, 0.00065123, 0.00849934, 0.        ,\n",
       "       0.01698366, 0.00622973, 0.        , 0.00964718, 0.01267467,\n",
       "       0.00027769, 0.00770208, 0.01306512, 0.00368329, 0.02048744,\n",
       "       0.00371587, 0.        , 0.00156955, 0.00671244, 0.0003825 ,\n",
       "       0.01126638, 0.03611651, 0.16384005, 0.07422263, 0.01760111,\n",
       "       0.02127213, 0.02182911, 0.01980513])"
      ]
     },
     "execution_count": 44,
     "metadata": {},
     "output_type": "execute_result"
    }
   ],
   "source": [
    "# Obtendo a importancia das features\n",
    "\n",
    "dtc.feature_importances_"
   ]
  },
  {
   "cell_type": "code",
   "execution_count": 45,
   "metadata": {},
   "outputs": [
    {
     "data": {
      "text/plain": [
       "array([0, 0, 0, ..., 1, 1, 1], dtype=int64)"
      ]
     },
     "execution_count": 45,
     "metadata": {},
     "output_type": "execute_result"
    }
   ],
   "source": [
    "# Realizando predição do modelo e retornando os valores\n",
    "\n",
    "pred_dct = dtc.predict(x_teste)\n",
    "pred_dct"
   ]
  },
  {
   "cell_type": "markdown",
   "metadata": {},
   "source": [
    "###"
   ]
  },
  {
   "cell_type": "markdown",
   "metadata": {},
   "source": [
    "## 5 - Validação dos Modelos"
   ]
  },
  {
   "cell_type": "markdown",
   "metadata": {},
   "source": [
    "### 5.1 - Matriz de confusão"
   ]
  },
  {
   "cell_type": "code",
   "execution_count": 46,
   "metadata": {},
   "outputs": [],
   "source": [
    "# Importando a biblioteca matriz de confusão\n",
    "\n",
    "from sklearn.metrics import confusion_matrix"
   ]
  },
  {
   "cell_type": "code",
   "execution_count": 48,
   "metadata": {},
   "outputs": [
    {
     "name": "stdout",
     "output_type": "stream",
     "text": [
      "[[1249  320]\n",
      " [ 277 1259]]\n"
     ]
    }
   ],
   "source": [
    "# Avaliando a matriz de confusão mo modelo DecisionTree\n",
    "\n",
    "print(confusion_matrix(y_teste, pred_dct))"
   ]
  },
  {
   "cell_type": "code",
   "execution_count": 49,
   "metadata": {},
   "outputs": [
    {
     "name": "stdout",
     "output_type": "stream",
     "text": [
      "[[1048  521]\n",
      " [ 242 1294]]\n"
     ]
    }
   ],
   "source": [
    "# Retornando matriz de confusão do modelo Naive bayes\n",
    "\n",
    "print(confusion_matrix(y_teste, pred_bnb))"
   ]
  },
  {
   "cell_type": "code",
   "execution_count": 50,
   "metadata": {},
   "outputs": [
    {
     "name": "stdout",
     "output_type": "stream",
     "text": [
      "[[1241  328]\n",
      " [ 247 1289]]\n"
     ]
    }
   ],
   "source": [
    "# Retornando matriz de confusão do modelo knn \n",
    "\n",
    "print(confusion_matrix(y_teste, predict_knn))"
   ]
  },
  {
   "cell_type": "markdown",
   "metadata": {},
   "source": [
    "#"
   ]
  },
  {
   "cell_type": "markdown",
   "metadata": {},
   "source": [
    "### 5.2 - Acurácia"
   ]
  },
  {
   "cell_type": "markdown",
   "metadata": {},
   "source": [
    "A partir do calculo da matriz de confusão conseguimos inferir outras métricas, como por exemplo a acurária.\n",
    "\n",
    "\n",
    "\n",
    "\n",
    "$ACC$ = ${TP + TN \\over TP + FP + TN + FN}$"
   ]
  },
  {
   "cell_type": "code",
   "execution_count": 51,
   "metadata": {},
   "outputs": [],
   "source": [
    "# Importando biblioteca de acurácia\n",
    "\n",
    "from sklearn.metrics import accuracy_score"
   ]
  },
  {
   "cell_type": "code",
   "execution_count": 59,
   "metadata": {},
   "outputs": [
    {
     "name": "stdout",
     "output_type": "stream",
     "text": [
      "Acurácia do modelo KNN é: 81.48%\n",
      "Acurácoa do modelo Bernoulli Naive Bayes é: 75.43%\n",
      "Acurácia do modelo DecisionTree é: 80.77%\n"
     ]
    }
   ],
   "source": [
    "# Verificando o score dos modelos\n",
    "\n",
    "knn = accuracy_score(y_teste, predict_knn) * 100\n",
    "nb = accuracy_score(y_teste, pred_bnb) * 100\n",
    "dct = accuracy_score(y_teste, pred_dct) * 100 \n",
    "\n",
    "print(\"Acurácia do modelo KNN é: %.2f%%\" %knn)\n",
    "print(\"Acurácoa do modelo Bernoulli Naive Bayes é: %.2f%%\" %nb)\n",
    "print(\"Acurácia do modelo DecisionTree é: %.2f%%\" %dct)"
   ]
  },
  {
   "cell_type": "markdown",
   "metadata": {},
   "source": [
    "##"
   ]
  },
  {
   "cell_type": "markdown",
   "metadata": {},
   "source": [
    "### 5.3 - Precisão"
   ]
  },
  {
   "cell_type": "markdown",
   "metadata": {},
   "source": [
    "Métrica importante que calcula quantos foram classificados corretamente como positivos (TP)\n",
    "\n",
    "\n",
    "\n",
    "$PS$ = ${TP\\over TP + FP}$"
   ]
  },
  {
   "cell_type": "code",
   "execution_count": 61,
   "metadata": {},
   "outputs": [],
   "source": [
    "# Importanto biblioteca de precisão\n",
    "\n",
    "from sklearn.metrics import precision_score"
   ]
  },
  {
   "cell_type": "code",
   "execution_count": 62,
   "metadata": {},
   "outputs": [],
   "source": [
    "# Salvando a precisão dos modelos\n",
    "\n",
    "knn_p = precision_score(y_teste, predict_knn) * 100\n",
    "bnb_p = precision_score(y_teste, pred_bnb) * 100\n",
    "dct_p = precision_score(y_teste, pred_dct) * 100"
   ]
  },
  {
   "cell_type": "code",
   "execution_count": 63,
   "metadata": {},
   "outputs": [
    {
     "name": "stdout",
     "output_type": "stream",
     "text": [
      "A precisão do modelo KNN é de 79.72%\n",
      "A precisão do modelo Bernoulli Naive Bayes é de 71.29%\n",
      "A precisão do modelo DecisionTree é de 79.73%\n"
     ]
    }
   ],
   "source": [
    "# Retornando a precisão de cada modelo\n",
    "\n",
    "print(\"A precisão do modelo KNN é de %.2f%%\" %knn_p) \n",
    "print(\"A precisão do modelo Bernoulli Naive Bayes é de %.2f%%\" %bnb_p) \n",
    "print(\"A precisão do modelo DecisionTree é de %.2f%%\" %dct_p) "
   ]
  },
  {
   "cell_type": "markdown",
   "metadata": {},
   "source": [
    "##"
   ]
  },
  {
   "cell_type": "markdown",
   "metadata": {},
   "source": [
    "### 5.4 Recall"
   ]
  },
  {
   "cell_type": "markdown",
   "metadata": {},
   "source": [
    "Recall calcula a sensibilidade do modelo, ou seja, calcula o quão corretamente o modelo classifica os resultados positivo (TP)\n",
    "\n",
    "$RC$ = ${TP\\over TP + FN}$"
   ]
  },
  {
   "cell_type": "code",
   "execution_count": 64,
   "metadata": {},
   "outputs": [],
   "source": [
    "# Importando a métrica recall\n",
    "\n",
    "from sklearn.metrics import recall_score"
   ]
  },
  {
   "cell_type": "code",
   "execution_count": 65,
   "metadata": {},
   "outputs": [],
   "source": [
    "# Armazenando as metricas de recall\n",
    "\n",
    "knn_r  = recall_score(y_teste, predict_knn) * 100\n",
    "bnb_r = recall_score(y_teste, pred_bnb) * 100\n",
    "dct_r = recall_score(y_teste, pred_dct) * 100"
   ]
  },
  {
   "cell_type": "code",
   "execution_count": 66,
   "metadata": {},
   "outputs": [
    {
     "name": "stdout",
     "output_type": "stream",
     "text": [
      "O Recall do modelo KNN foi de 83.92%: \n",
      "O Recall do modelo Bernoulli Naive Bayes foi de 84.24%: \n",
      "O Recall do modelo DecisionTree foi de 81.97%: \n"
     ]
    }
   ],
   "source": [
    "# Retornando com os resultados de Recall de cada modelo \n",
    "\n",
    "print(\"O Recall do modelo KNN foi de %.2f%%: \" %knn_r)\n",
    "print(\"O Recall do modelo Bernoulli Naive Bayes foi de %.2f%%: \" %bnb_r)\n",
    "print(\"O Recall do modelo DecisionTree foi de %.2f%%: \" %dct_r)"
   ]
  },
  {
   "cell_type": "markdown",
   "metadata": {},
   "source": [
    "#"
   ]
  },
  {
   "cell_type": "markdown",
   "metadata": {},
   "source": [
    "### 5.5 - F1 Score"
   ]
  },
  {
   "cell_type": "markdown",
   "metadata": {},
   "source": [
    "O F1 Score é a média harmônica do recall e precisão. Ele tem o objetivo de identificar se os valores de recall ou precisão estão baixos\n",
    "\n",
    "$f1$ = ${2 * }$ ${precisão * recall\\over precisão + recall}$"
   ]
  },
  {
   "cell_type": "code",
   "execution_count": 69,
   "metadata": {},
   "outputs": [],
   "source": [
    "# Armazenado o F1 Score de cada modelo\n",
    "\n",
    "knn_f = (2 * (knn_p * knn_r) / (knn_p + knn_r)) \n",
    "bnb_f = (2 * (bnb_p * bnb_r) / (bnb_p + bnb_r)) \n",
    "dct_f = (2 * (dct_p * dct_r) / (dct_p + dct_r)) "
   ]
  },
  {
   "cell_type": "code",
   "execution_count": 70,
   "metadata": {},
   "outputs": [
    {
     "name": "stdout",
     "output_type": "stream",
     "text": [
      "O F1 Score do modelo KNN é de: 81.76%\n",
      "O F1 Score do modelo Bernoullin Naive Bayes é de: 77.23%\n",
      "O F1 Score do modelo DecisionTree é de: 80.83%\n"
     ]
    }
   ],
   "source": [
    "# Retornando o F1 Score de cada modelo\n",
    "\n",
    "print(\"O F1 Score do modelo KNN é de: %.2f%%\" %knn_f)\n",
    "print(\"O F1 Score do modelo Bernoullin Naive Bayes é de: %.2f%%\" %bnb_f)\n",
    "print(\"O F1 Score do modelo DecisionTree é de: %.2f%%\" %dct_f)"
   ]
  },
  {
   "cell_type": "markdown",
   "metadata": {},
   "source": [
    "#"
   ]
  },
  {
   "cell_type": "markdown",
   "metadata": {},
   "source": [
    "### 5.6 - Testando Conhecimentos"
   ]
  },
  {
   "cell_type": "code",
   "execution_count": 71,
   "metadata": {},
   "outputs": [],
   "source": [
    "# Testando métricas do exercício\n",
    "\n",
    "d_pred = [0,0,0,0,1,1,1,1,0,1,0,1]\n",
    "d_real = [1,1,0,0,1,1,1,0,1,0,1,0]"
   ]
  },
  {
   "cell_type": "code",
   "execution_count": 72,
   "metadata": {},
   "outputs": [],
   "source": [
    "# Armazenando variáveis\n",
    "\n",
    "teste_acuracia = accuracy_score(d_real, d_pred) * 100\n",
    "teste_precisao = precision_score(d_real, d_pred) * 100\n",
    "teste_recall = recall_score(d_real, d_pred) * 100\n",
    "teste_f1 = (2 * (teste_precisao * teste_recall) / (teste_precisao + teste_recall)) "
   ]
  },
  {
   "cell_type": "code",
   "execution_count": 73,
   "metadata": {},
   "outputs": [
    {
     "name": "stdout",
     "output_type": "stream",
     "text": [
      "A Acurácia do teste foi de: 41.67%\n",
      "A Precisão do teste foi de: 50.00%\n",
      "O Recall do teste foi de: 42.86%\n",
      "A média harmônica (F1-score) do teste foi de: 46.15%\n"
     ]
    }
   ],
   "source": [
    "# Retornando resultados do teste\n",
    "\n",
    "print(\"A Acurácia do teste foi de: %.2f%%\" %teste_acuracia)\n",
    "print(\"A Precisão do teste foi de: %.2f%%\" %teste_precisao)\n",
    "print(\"O Recall do teste foi de: %.2f%%\" %teste_recall)\n",
    "print(\"A média harmônica (F1-score) do teste foi de: %.2f%%\" %teste_f1)"
   ]
  },
  {
   "cell_type": "markdown",
   "metadata": {},
   "source": [
    "#"
   ]
  },
  {
   "cell_type": "markdown",
   "metadata": {},
   "source": [
    "### 5.7 - Escolhendo o melhor modelo"
   ]
  },
  {
   "cell_type": "code",
   "execution_count": 74,
   "metadata": {},
   "outputs": [
    {
     "name": "stdout",
     "output_type": "stream",
     "text": [
      "Modelo KNN: 79.72%\n",
      "Modelo Bernoulli Naive Bayes: 71.29%\n",
      "Modelo Árvore de Decisão: 79.73%\n"
     ]
    }
   ],
   "source": [
    "# Escolhendo o melhor modelo através da métrica precisão\n",
    "\n",
    "print(\"Modelo KNN: %.2f%%\" %knn_p)\n",
    "print(\"Modelo Bernoulli Naive Bayes: %.2f%%\" %bnb_p)\n",
    "print(\"Modelo Árvore de Decisão: %.2f%%\" %dct_p)"
   ]
  }
 ],
 "metadata": {
  "kernelspec": {
   "display_name": "Python 3.7.0 ('laboratorio')",
   "language": "python",
   "name": "python3"
  },
  "language_info": {
   "codemirror_mode": {
    "name": "ipython",
    "version": 3
   },
   "file_extension": ".py",
   "mimetype": "text/x-python",
   "name": "python",
   "nbconvert_exporter": "python",
   "pygments_lexer": "ipython3",
   "version": "3.7.0"
  },
  "orig_nbformat": 4,
  "vscode": {
   "interpreter": {
    "hash": "2aa52a96dfe8715505003ec3f39e7b801d85e0de6874c26c41ab88a801e5bc5a"
   }
  }
 },
 "nbformat": 4,
 "nbformat_minor": 2
}
